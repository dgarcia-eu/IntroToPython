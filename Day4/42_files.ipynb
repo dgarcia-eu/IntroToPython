{
 "cells": [
  {
   "cell_type": "markdown",
   "metadata": {},
   "source": [
    "<font size=\"+3\">Write and read files</font>\n",
    "\n",
    "In python, we can access information stored in files and save our results in a file too. \n",
    "\n",
    "**Table of contents:**\n",
    "* [1. File basics](#File-basics)\n",
    "* [2. CSV files](#CSV-files)\n",
    "* [3. JSON files](#JSON-files)\n",
    "* [4. Pickle files](#Pickle-files)"
   ]
  },
  {
   "cell_type": "markdown",
   "metadata": {},
   "source": [
    "# File basics\n",
    "\n",
    "When we deal with files in Python, remember the three **modes:**\n",
    "- ```r``` : read mode (default): use ```read()```, ```readline()```\n",
    "- ```w``` : write mode: existing files are overwritten. use ```write('string')```\n",
    "- ```a``` : write append mode: appending string at the end of the file\n",
    "You can find more information in: https://docs.python.org/3/library/functions.html#open"
   ]
  },
  {
   "cell_type": "markdown",
   "metadata": {},
   "source": [
    "## Write file\n",
    "Let's create and write into a text file containing one sentence 'Hello world'."
   ]
  },
  {
   "cell_type": "code",
   "execution_count": 1,
   "metadata": {},
   "outputs": [],
   "source": [
    "f = open('helloworld.txt','w') # open in write (w) mode\n",
    "f.write('hello world')         # write a string\n",
    "f.close()                      # close file handle"
   ]
  },
  {
   "cell_type": "markdown",
   "metadata": {},
   "source": [
    "You have to open, write and close the file. You have to remember to close the file, otherwise the data might not end up finally writen on the hard drive. A trick to not forget the file is the following:\n",
    "- ```with open ( )``` : automatically closes the file"
   ]
  },
  {
   "cell_type": "code",
   "execution_count": 2,
   "metadata": {},
   "outputs": [],
   "source": [
    "with open('helloworld.txt', 'w') as f:\n",
    "    f.write('Hello world')"
   ]
  },
  {
   "cell_type": "markdown",
   "metadata": {},
   "source": [
    "Now the file is only open during the scope of the **with** instruction and it will be close when the program exits it."
   ]
  },
  {
   "cell_type": "markdown",
   "metadata": {},
   "source": [
    "## Read file"
   ]
  },
  {
   "cell_type": "markdown",
   "metadata": {},
   "source": [
    "Reading a file is also easy, you need to open it in read mode ('r') and you can use the function **.read()** to read its full content:"
   ]
  },
  {
   "cell_type": "code",
   "execution_count": 3,
   "metadata": {},
   "outputs": [
    {
     "name": "stdout",
     "output_type": "stream",
     "text": [
      "Hello world\n"
     ]
    }
   ],
   "source": [
    "with open('helloworld.txt', 'r') as f:\n",
    "    message = f.read()\n",
    "    print(message)"
   ]
  },
  {
   "cell_type": "markdown",
   "metadata": {},
   "source": [
    "## Appending to a file\n",
    "Often, you just want to add something at the end of a file. You don't need to read it all and write it again, instead you can ope in append ('a') mode and write at the end:"
   ]
  },
  {
   "cell_type": "code",
   "execution_count": 4,
   "metadata": {},
   "outputs": [],
   "source": [
    "with open('helloworld.txt', 'a') as f:\n",
    "    f.write('\\nhello world again')"
   ]
  },
  {
   "cell_type": "markdown",
   "metadata": {},
   "source": [
    "## Reading line by line\n",
    "\n",
    "You will often have to read large files. In those cases, you can read line by line with **readline()**. This function saves memory because you rewrite the line each time you read one line."
   ]
  },
  {
   "cell_type": "code",
   "execution_count": 5,
   "metadata": {},
   "outputs": [
    {
     "name": "stdout",
     "output_type": "stream",
     "text": [
      "Hello world\n",
      "\n",
      "hello world again\n"
     ]
    }
   ],
   "source": [
    "with open('helloworld.txt') as f:\n",
    "    line = f.readline()\n",
    "    while line:\n",
    "        print(line)\n",
    "        line = f.readline()"
   ]
  },
  {
   "cell_type": "markdown",
   "metadata": {
    "collapsed": true,
    "jupyter": {
     "outputs_hidden": true
    }
   },
   "source": [
    "### Example : Save a list to txt file"
   ]
  },
  {
   "cell_type": "code",
   "execution_count": 6,
   "metadata": {},
   "outputs": [],
   "source": [
    "# Let's save this list\n",
    "user = ['AfD', 'CDU', 'CSU', 'fdp', 'spdde', 'Die Gruenen', 'dieLinke']\n",
    "\n",
    "# example 1\n",
    "with open('germany_party_account.txt','w') as f:\n",
    "        for u in user:\n",
    "            f.write('{}\\n'.format(u)) # '\\n' is the new line character"
   ]
  },
  {
   "cell_type": "code",
   "execution_count": 7,
   "metadata": {},
   "outputs": [],
   "source": [
    "# example 2\n",
    "with open('germany_party_account2.txt', 'w') as f:\n",
    "    f.write(\"\\n\".join(user))"
   ]
  },
  {
   "cell_type": "markdown",
   "metadata": {},
   "source": [
    "Some quick questions:\n",
    "- What is the difference between the two examples above?-\n",
    "- Is the content of both files exactly the same?\n",
    "- What would be the content of the file if both examples used the same filename?\n",
    "- How can you change the code to save with tabulators as separator between party names instead?"
   ]
  },
  {
   "cell_type": "markdown",
   "metadata": {},
   "source": [
    "### Exercise 1: writing your own csv file\n",
    "Using the data about user names and user ids below, write their content in a file in CSV (comma-separated values) format. Remember that CSV files have a comma (',') between fields of each row and a line break ('\\n') between rows."
   ]
  },
  {
   "cell_type": "code",
   "execution_count": 8,
   "metadata": {},
   "outputs": [],
   "source": [
    "user = ['AfD', 'CDU', 'CSU', 'fdp', 'spdde', 'Die Gruenen', 'dieLinke']\n",
    "user_id = [844081278,20429858,21107582,39475170,26458162,14553288,44101578,35562287]"
   ]
  },
  {
   "cell_type": "code",
   "execution_count": 9,
   "metadata": {},
   "outputs": [],
   "source": [
    "# Your code here"
   ]
  },
  {
   "cell_type": "code",
   "execution_count": 10,
   "metadata": {},
   "outputs": [],
   "source": [
    "# %load solutions/42_files_ex_1.py"
   ]
  },
  {
   "cell_type": "markdown",
   "metadata": {},
   "source": [
    "# CSV files\n",
    "\n",
    "CSV files are very common and the **csv** module has useful functions to read and write csv files. The example below writes the data to a csv file with a csv.writer():\n"
   ]
  },
  {
   "cell_type": "code",
   "execution_count": 11,
   "metadata": {},
   "outputs": [],
   "source": [
    "import csv\n",
    "with open(\"germany_party_account4.csv\", \"w\") as f:\n",
    "    writer = csv.writer(f)\n",
    "    writer.writerow([\"username\",\"user_id\"])\n",
    "    for u,i in zip(user,user_id):\n",
    "        writer.writerow([u,i]) # <- It has to be a list !!! Be careful"
   ]
  },
  {
   "cell_type": "markdown",
   "metadata": {},
   "source": [
    "If your data is stored in a list of dictionaries, you can store it easily as a csv file:"
   ]
  },
  {
   "cell_type": "code",
   "execution_count": 12,
   "metadata": {},
   "outputs": [
    {
     "name": "stdout",
     "output_type": "stream",
     "text": [
      "[{'username': 'AfD', 'user_id': 844081278}, {'username': 'CDU', 'user_id': 20429858}, {'username': 'CSU', 'user_id': 21107582}, {'username': 'fdp', 'user_id': 39475170}, {'username': 'spdde', 'user_id': 26458162}, {'username': 'Die Gruenen', 'user_id': 14553288}, {'username': 'dieLinke', 'user_id': 44101578}]\n"
     ]
    }
   ],
   "source": [
    "# Lets store the info into the list of dictionary format\n",
    "list_of_dict= []\n",
    "for u, i in zip(user, user_id):\n",
    "    list_of_dict.append({'username':u, 'user_id':i})\n",
    "print(list_of_dict)\n"
   ]
  },
  {
   "cell_type": "code",
   "execution_count": 13,
   "metadata": {},
   "outputs": [],
   "source": [
    "with open('germany_party_account5.csv', 'w') as output_file:\n",
    "    fc = csv.DictWriter(output_file, fieldnames=list_of_dict[0].keys())\n",
    "    fc.writeheader()\n",
    "    fc.writerows(list_of_dict)"
   ]
  },
  {
   "cell_type": "markdown",
   "metadata": {},
   "source": [
    "Some quick questions:\n",
    "- Are the files germany_party_account4.csv and germany_party_account5.csv exactly the same? How can you tell?\n",
    "- What did writeheader() do above?\n",
    "- What would happen if a dictionary has an extra field that the others don't have?"
   ]
  },
  {
   "cell_type": "markdown",
   "metadata": {},
   "source": [
    "## JSON files\n",
    "Similarly to CSV, you have a module called **json** with functions to read and write files in the JSON format. For example, consider the following tweet:"
   ]
  },
  {
   "cell_type": "code",
   "execution_count": 14,
   "metadata": {},
   "outputs": [],
   "source": [
    "import json\n",
    "tweet = {\n",
    "    \"created_at\": 'Sat Feb 08 15:29:13 +0000 2020',\n",
    "    \"full_text\": \"I love python!\",\n",
    "    \"user\": {\n",
    "        \"id\": \"1234567890\",\n",
    "        \"screen_name\": \"PythonLover\"\n",
    "    }\n",
    "}"
   ]
  },
  {
   "cell_type": "code",
   "execution_count": 15,
   "metadata": {},
   "outputs": [
    {
     "data": {
      "text/plain": [
       "{'created_at': 'Sat Feb 08 15:29:13 +0000 2020',\n",
       " 'full_text': 'I love python!',\n",
       " 'user': {'id': '1234567890', 'screen_name': 'PythonLover'}}"
      ]
     },
     "execution_count": 15,
     "metadata": {},
     "output_type": "execute_result"
    }
   ],
   "source": [
    "tweet"
   ]
  },
  {
   "cell_type": "markdown",
   "metadata": {},
   "source": [
    "We can dump it to a string with **dumps()**, this is how it would look in a file:"
   ]
  },
  {
   "cell_type": "code",
   "execution_count": 16,
   "metadata": {},
   "outputs": [
    {
     "data": {
      "text/plain": [
       "'{\"created_at\": \"Sat Feb 08 15:29:13 +0000 2020\", \"full_text\": \"I love python!\", \"user\": {\"id\": \"1234567890\", \"screen_name\": \"PythonLover\"}}'"
      ]
     },
     "execution_count": 16,
     "metadata": {},
     "output_type": "execute_result"
    }
   ],
   "source": [
    "json.dumps(tweet) "
   ]
  },
  {
   "cell_type": "markdown",
   "metadata": {},
   "source": [
    "We can write it to a file with **dump()**:"
   ]
  },
  {
   "cell_type": "code",
   "execution_count": 17,
   "metadata": {},
   "outputs": [],
   "source": [
    "# Write tweet data into json format (Serialization)\n",
    "with open(\"tweet_example.json\", \"w\") as write_file:\n",
    "    json.dump(tweet, write_file)"
   ]
  },
  {
   "cell_type": "markdown",
   "metadata": {},
   "source": [
    "And we can read it with **load()**:"
   ]
  },
  {
   "cell_type": "code",
   "execution_count": 18,
   "metadata": {},
   "outputs": [],
   "source": [
    "# Read json format file (Deserialization)\n",
    "with open(\"tweet_example.json\", \"r\") as read_file:\n",
    "    tweet2= json.load(read_file)"
   ]
  },
  {
   "cell_type": "code",
   "execution_count": 19,
   "metadata": {},
   "outputs": [
    {
     "data": {
      "text/plain": [
       "{'created_at': 'Sat Feb 08 15:29:13 +0000 2020',\n",
       " 'full_text': 'I love python!',\n",
       " 'user': {'id': '1234567890', 'screen_name': 'PythonLover'}}"
      ]
     },
     "execution_count": 19,
     "metadata": {},
     "output_type": "execute_result"
    }
   ],
   "source": [
    "tweet2"
   ]
  },
  {
   "cell_type": "markdown",
   "metadata": {},
   "source": [
    "Quick question:\n",
    "- Guess how to load a json object from a string. You can do it with the result of dumps() you ran before."
   ]
  },
  {
   "cell_type": "markdown",
   "metadata": {},
   "source": [
    "### Exercise 2: read a JSONL file\n",
    "There is a common format of JSONL files, which are files that have one JSON object in each file. Write a code that writes three tweets to a JSONL file and that reads them again."
   ]
  },
  {
   "cell_type": "code",
   "execution_count": 20,
   "metadata": {},
   "outputs": [],
   "source": [
    "# Your code here"
   ]
  },
  {
   "cell_type": "code",
   "execution_count": 21,
   "metadata": {},
   "outputs": [],
   "source": [
    "# %load solutions/42_files_ex_2.py"
   ]
  },
  {
   "cell_type": "markdown",
   "metadata": {},
   "source": [
    "# Pickle files\n",
    "\n",
    "Python object serialization: You can pickle any Python object! Pickle uses a binary serialization format, so **remember to use 'wb' (write-binary) mode for writing and 'rb' (read-binary) mode for reading.**\n",
    "\n",
    "#### Why Use Pickle?\n",
    "Pickle is particularly useful for saving complex data types like lists, dictionaries, custom classes, and other objects. It allows you to store these objects in a binary file, which can later be reloaded into Python, preserving the object’s structure and data."
   ]
  },
  {
   "cell_type": "code",
   "execution_count": 22,
   "metadata": {},
   "outputs": [],
   "source": [
    "import pickle\n",
    "data = zip(user,user_id)\n",
    "with open('tweet_example.pickle', 'wb') as f: # set 'wb' instead of 'w'\n",
    "    pickle.dump(data, f)"
   ]
  },
  {
   "cell_type": "code",
   "execution_count": 23,
   "metadata": {},
   "outputs": [],
   "source": [
    "with open('tweet_example.pickle', 'rb') as f:\n",
    "    data = pickle.load(f)"
   ]
  },
  {
   "cell_type": "code",
   "execution_count": 24,
   "metadata": {},
   "outputs": [
    {
     "name": "stdout",
     "output_type": "stream",
     "text": [
      "('AfD', 844081278)\n",
      "('CDU', 20429858)\n",
      "('CSU', 21107582)\n",
      "('fdp', 39475170)\n",
      "('spdde', 26458162)\n",
      "('Die Gruenen', 14553288)\n",
      "('dieLinke', 44101578)\n"
     ]
    }
   ],
   "source": [
    "for i in data:\n",
    "    print(i)"
   ]
  }
 ],
 "metadata": {
  "kernelspec": {
   "display_name": "Python [conda env:base] *",
   "language": "python",
   "name": "conda-base-py"
  },
  "language_info": {
   "codemirror_mode": {
    "name": "ipython",
    "version": 3
   },
   "file_extension": ".py",
   "mimetype": "text/x-python",
   "name": "python",
   "nbconvert_exporter": "python",
   "pygments_lexer": "ipython3",
   "version": "3.13.5"
  }
 },
 "nbformat": 4,
 "nbformat_minor": 4
}
