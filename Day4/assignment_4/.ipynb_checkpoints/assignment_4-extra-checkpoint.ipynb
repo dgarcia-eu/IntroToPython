{
 "cells": [
  {
   "cell_type": "markdown",
   "metadata": {},
   "source": [
    "# Assignment 4 extra exercises: Pandas problems"
   ]
  },
  {
   "cell_type": "markdown",
   "metadata": {},
   "source": [
    "---"
   ]
  },
  {
   "cell_type": "markdown",
   "metadata": {},
   "source": [
    "# 1. Customers who never ordered\n",
    "\n",
    "Write a function called **find_customers()** that takes two data frames, one called **customers** and another called **orders** and that finds all the customers who never ordered anything. Return the result data frame in any order.\n",
    "\n",
    "The customers data frame has the following columns:\n",
    "\n",
    "| Column Name | Type    |\n",
    "|-------------|---------|\n",
    "| id          | int     |\n",
    "| name        | varchar |\n",
    "\n",
    "- id is the primary key (column with unique values) for this data frame.\n",
    "- Each row of this data frame indicates the ID and name of a customer.\n",
    " \n",
    "\n",
    "The orders data frame has the following columns:\n",
    "\n",
    "| Column Name | Type |\n",
    "|-------------|------|\n",
    "| id          | int  |\n",
    "| customerId  | int  |\n",
    "\n",
    "- id is the primary key (column with unique values) for this data frame.\n",
    "- customerId is a foreign key (reference columns) of the ID from the Customers data frame.\n",
    "- Each row of this data frame indicates the ID of an order and the ID of the customer who ordered it.\n",
    " \n",
    "Example:\n",
    "\n",
    "Input: \n",
    "Customers table:\n",
    "\n",
    "| id | name  |\n",
    "|----|-------|\n",
    "| 1  | Joe   |\n",
    "| 2  | Henry |\n",
    "| 3  | Sam   |\n",
    "| 4  | Max   |\n",
    "\n",
    "Orders table:\n",
    "\n",
    "| id | customerId |\n",
    "|----|------------|\n",
    "| 1  | 3          |\n",
    "| 2  | 1          |\n",
    "\n",
    "Output: \n",
    "\n",
    "| Customers |\n",
    "|-----------|\n",
    "| Henry     |\n",
    "| Max       |\n"
   ]
  },
  {
   "cell_type": "code",
   "execution_count": 1,
   "metadata": {},
   "outputs": [],
   "source": [
    "import pandas as pd\n",
    "\n",
    "customers = pd.DataFrame({\"id\" : [1,2,3,4], \"name\" : [\"Joe\", \"Henry\", \"Sam\", \"Max\"]})\n",
    "orders = pd.DataFrame({\"id\" : [1,2], \"customerId\" : [3,1]})\n",
    "\n",
    "# Your code here"
   ]
  },
  {
   "cell_type": "markdown",
   "metadata": {},
   "source": [
    "# 2. Employees earning more than their managers\n",
    "\n",
    "Write a function **find_employees()** that receives as a parameter a data frame called **employees** and finds the employees who earn more than their managers. Return the result as a data frame in any order. \n",
    "\n",
    "The input data frame has the following columns:\n",
    "\n",
    "  \n",
    "| Column Name | Type    |  \n",
    "|-------------|---------|  \n",
    "| id          | int     |  \n",
    "| name        | varchar |  \n",
    "| salary      | int     |  \n",
    "| managerId   | int     |  \n",
    "  \n",
    "\n",
    "- id is the primary key (column with unique values) for this data frame.\n",
    "- Each row of this data frame indicates the ID of an employee, their name, salary, and the ID of their manager.\n",
    "\n",
    "\n",
    "Example:\n",
    "\n",
    "Input: \n",
    "Employee data frame:\n",
    "| id | name  | salary | managerId |\n",
    "|----|-------|--------|-----------|\n",
    "| 1  | Joe   | 70000  | 3         |\n",
    "| 2  | Henry | 80000  | 4         |\n",
    "| 3  | Sam   | 60000  | Null      |\n",
    "| 4  | Max   | 90000  | Null      |\n",
    "\n",
    "Output: \n",
    "\n",
    "| Employee |\n",
    "|----------|\n",
    "| Joe      |\n",
    "\n",
    "Explanation: Joe is the only employee who earns more than his manager."
   ]
  },
  {
   "cell_type": "code",
   "execution_count": 2,
   "metadata": {},
   "outputs": [],
   "source": [
    "employee = pd.DataFrame({\"id\" : [1,2,3,4], \"name\" : [\"Joe\", \"Henry\", \"Sam\", \"Max\"], \"salary\" : [7000, 8000, 6000, 9000], \"managerId\" : [3,4,None,None]})\n",
    "\n",
    "# Your code here"
   ]
  },
  {
   "cell_type": "markdown",
   "metadata": {},
   "source": [
    "# 3. Rising temperatures\n",
    "\n",
    "Write a function called **rising_temperature()** that receives as a parameter a data frame called **weather** and that returns a data frame with all dates' id with higher temperatures compared to its previous date (yesterday). Return the result table in any order.\n",
    "\n",
    "\n",
    "The input data frame has the following columns:\n",
    "\n",
    "| Column Name   | Type    |\n",
    "|---------------|---------|\n",
    "| id            | int     |\n",
    "| recordDate    | date    |\n",
    "| temperature   | int     |\n",
    "\n",
    "- id is the column with unique values for this data frame.\n",
    "- There are no different rows with the same recordDate.\n",
    "- This data frame contains information about the temperature on a certain day.\n",
    "\n",
    "\n",
    "Example 1:\n",
    "\n",
    "Input: \n",
    "Weather table:\n",
    "\n",
    "| id | recordDate | temperature |\n",
    "|----|------------|-------------|\n",
    "| 1  | 2015-01-01 | 10          |\n",
    "| 2  | 2015-01-02 | 25          |\n",
    "| 3  | 2015-01-03 | 20          |\n",
    "| 4  | 2015-01-04 | 30          |\n",
    "\n",
    "Output: \n",
    "\n",
    "| id |\n",
    "|----|\n",
    "| 2  |\n",
    "| 4  |\n",
    "\n",
    "Explanation: \n",
    "In 2015-01-02, the temperature was higher than the previous day (10 -> 25).\n",
    "In 2015-01-04, the temperature was higher than the previous day (20 -> 30)."
   ]
  },
  {
   "cell_type": "code",
   "execution_count": 3,
   "metadata": {},
   "outputs": [],
   "source": [
    "weather = pd.DataFrame({\"id\" : [1,2,3,4], \"recordDate\" : [\"2015-01-01\", \"2015-01-02\", \"2015-01-03\", \"2015-01-04\"], \"temperature\" : [10,25,20,30]})                \n",
    "\n",
    "# Your code here"
   ]
  },
  {
   "cell_type": "markdown",
   "metadata": {},
   "source": [
    "Curious? You just did the following leetcode problems:\n",
    "- https://leetcode.com/problems/customers-who-never-order/\n",
    "- https://leetcode.com/problems/employees-earning-more-than-their-managers/\n",
    "- https://leetcode.com/problems/rising-temperature/description/"
   ]
  }
 ],
 "metadata": {
  "kernelspec": {
   "display_name": "Python [conda env:base] *",
   "language": "python",
   "name": "conda-base-py"
  },
  "language_info": {
   "codemirror_mode": {
    "name": "ipython",
    "version": 3
   },
   "file_extension": ".py",
   "mimetype": "text/x-python",
   "name": "python",
   "nbconvert_exporter": "python",
   "pygments_lexer": "ipython3",
   "version": "3.13.5"
  }
 },
 "nbformat": 4,
 "nbformat_minor": 4
}
