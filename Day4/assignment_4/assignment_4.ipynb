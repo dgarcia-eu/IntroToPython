{
 "cells": [
  {
   "cell_type": "markdown",
   "metadata": {},
   "source": [
    "# Assignment 4: Data exploration\n",
    "\n",
    "Winter Term 2025\n",
    "\n",
    "Total Score: 20\n",
    "\n",
    "Submission Deadline: Thu, October 16, 2025, 23:59"
   ]
  },
  {
   "cell_type": "markdown",
   "metadata": {},
   "source": [
    "# Task 1-1. Pandas (Total: 3 Points)\n",
    "\n",
    "1. Load \"adult.csv\" of the lecture notebook into dataframe named adult_df (recognize \"?\" values as NA) (0 Points)\n",
    "3. Change adult_df to have only a subset of the dataframe with columns \"age\", \"sex\", \"education\", \"hours-per-week\", \"capital-gain\". (0.5 Points)\n",
    "4. Rename column \"capital-gain\" to \"capital_gain\". (0.5 Points)\n",
    "5. Print the column names of adult_df. (0.5 Point)\n",
    "6. Print number of different values for the attribute education. (0.5 Points)\n",
    "7. Print the mean \"working time per week\". (0.5 Points)\n",
    "8. Print the max \"capital_gain\". (0.5 Points)"
   ]
  },
  {
   "cell_type": "code",
   "execution_count": null,
   "metadata": {},
   "outputs": [],
   "source": [
    "# Your code here"
   ]
  },
  {
   "cell_type": "markdown",
   "metadata": {},
   "source": [
    "# Task 1-2. (Total: 5 Points)\n",
    "For the following steps, use adult_df:\n",
    "1. Get all persons with a Bachelor degree as their highest degree into 'bachelors' dataframe. # 1 Point\n",
    "2. Print the number of those persons. # 0.5 Points\n",
    "3. Print the sum of their capital_gain. # 0.5 Points\n",
    "5. How many of those persons male and female? # 1 Point\n",
    "6. Sort them according to their capital_gain and age in descending order. # 1 Point\n",
    "7. Using the sorted data frame, print the first 10 of those persons who have an age between 20 and 40, both included. # 1 Point"
   ]
  },
  {
   "cell_type": "code",
   "execution_count": null,
   "metadata": {},
   "outputs": [],
   "source": [
    "# Your code here"
   ]
  },
  {
   "cell_type": "markdown",
   "metadata": {},
   "source": [
    "## Task 2. Arguments (5 Points)\n",
    "\n",
    "Write a function named **api_param** that returns a dictionary containing parameters to call data through an API. This function should satisfy the following conditions:\n",
    "\n",
    "- The function receives one argument, query, and any number of arbitrary keyword arguments.\n",
    "- The function returns a dictionary consisting of parameters (keys) and corresponding values passed to the function as arguments.\n",
    "- The returned dictionary must include a 'count' key. If a 'count' key-value pair is not provided as a function argument, the value for 'count' should default to 100.\n",
    "\n",
    "If we call function in the following way, \n",
    "\n",
    "```python\n",
    "api_param('election', lang='en')\n",
    "```\n",
    "\n",
    "The function should return in this way:\n",
    "\n",
    "```python\n",
    "{'lang': 'en', 'count': 100, 'query': 'election'} \n",
    "```"
   ]
  },
  {
   "cell_type": "code",
   "execution_count": null,
   "metadata": {},
   "outputs": [],
   "source": [
    "# Your code here"
   ]
  },
  {
   "cell_type": "markdown",
   "metadata": {},
   "source": [
    "## Task 3. Read and Write a file (7 Points)"
   ]
  },
  {
   "cell_type": "markdown",
   "metadata": {},
   "source": [
    "1. Read 'example_ten_tweets.json' file. (1 Point)"
   ]
  },
  {
   "cell_type": "code",
   "execution_count": null,
   "metadata": {},
   "outputs": [],
   "source": [
    "# Your code here"
   ]
  },
  {
   "cell_type": "markdown",
   "metadata": {},
   "source": [
    "2. This is a list of dictionaries. Print the number of dictionaries in the list. (1 Point)"
   ]
  },
  {
   "cell_type": "code",
   "execution_count": null,
   "metadata": {},
   "outputs": [],
   "source": [
    "# Your code here"
   ]
  },
  {
   "cell_type": "markdown",
   "metadata": {},
   "source": [
    "3. Print the first dictionary and its keys. (1 Point)"
   ]
  },
  {
   "cell_type": "code",
   "execution_count": null,
   "metadata": {},
   "outputs": [],
   "source": [
    "# Your code here"
   ]
  },
  {
   "cell_type": "markdown",
   "metadata": {},
   "source": [
    "4. Create a list named **ids** that contains all 10 id values from the dictionaries. The dictionary key for the ids is **id**. (1 Point)"
   ]
  },
  {
   "cell_type": "code",
   "execution_count": null,
   "metadata": {},
   "outputs": [],
   "source": [
    "# Your code here"
   ]
  },
  {
   "cell_type": "markdown",
   "metadata": {},
   "source": [
    "5. Create a list named **retweet** that contains all retweet count values. The dictionary key for the retweet count is 'retweet_count'. (1 Point)"
   ]
  },
  {
   "cell_type": "code",
   "execution_count": null,
   "metadata": {},
   "outputs": [],
   "source": [
    "# Your code here"
   ]
  },
  {
   "cell_type": "markdown",
   "metadata": {},
   "source": [
    "6. Save id and retweet_count to a text file called \"tweets.csv\" in the following format. (2 Points)\n",
    "   \n",
    "```python\n",
    "id,retweet_count\n",
    "1352140185828425729,4071\n",
    "1352140112486809601,30687\n",
    "1352002900000600064,58637\n",
    "...\n"
   ]
  },
  {
   "cell_type": "code",
   "execution_count": null,
   "metadata": {},
   "outputs": [],
   "source": [
    "# Your code here"
   ]
  }
 ],
 "metadata": {
  "kernelspec": {
   "display_name": "Python [conda env:base] *",
   "language": "python",
   "name": "conda-base-py"
  },
  "language_info": {
   "codemirror_mode": {
    "name": "ipython",
    "version": 3
   },
   "file_extension": ".py",
   "mimetype": "text/x-python",
   "name": "python",
   "nbconvert_exporter": "python",
   "pygments_lexer": "ipython3",
   "version": "3.13.5"
  }
 },
 "nbformat": 4,
 "nbformat_minor": 4
}
