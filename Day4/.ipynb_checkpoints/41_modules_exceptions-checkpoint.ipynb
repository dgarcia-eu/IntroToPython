{
 "cells": [
  {
   "cell_type": "markdown",
   "metadata": {},
   "source": [
    "<font size=\"+3\">Python modules</font>\n",
    "\n",
    "Python modules include useful code you can reuse. You can **import a module** and use its functions, for example here with the module *statistics*:"
   ]
  },
  {
   "cell_type": "code",
   "execution_count": 1,
   "metadata": {},
   "outputs": [
    {
     "data": {
      "text/plain": [
       "2"
      ]
     },
     "execution_count": 1,
     "metadata": {},
     "output_type": "execute_result"
    }
   ],
   "source": [
    "import statistics          # import statistics \n",
    "statistics.mean([1,2,3])   # we call mean function in statistics -> MODULE.FUNCTION "
   ]
  },
  {
   "cell_type": "markdown",
   "metadata": {},
   "source": [
    "You can rename a module with **as** and call its functions or variables with the alias you used to name it:"
   ]
  },
  {
   "cell_type": "code",
   "execution_count": 2,
   "metadata": {},
   "outputs": [
    {
     "data": {
      "text/plain": [
       "2"
      ]
     },
     "execution_count": 2,
     "metadata": {},
     "output_type": "execute_result"
    }
   ],
   "source": [
    "import statistics as s     #  we name statistics -> s\n",
    "s.mean([1,2,3])"
   ]
  },
  {
   "cell_type": "markdown",
   "metadata": {},
   "source": [
    "Additionally, you can import just a function from a module, as you often need modules just for one function:"
   ]
  },
  {
   "cell_type": "code",
   "execution_count": 3,
   "metadata": {},
   "outputs": [
    {
     "data": {
      "text/plain": [
       "2"
      ]
     },
     "execution_count": 3,
     "metadata": {},
     "output_type": "execute_result"
    }
   ],
   "source": [
    "from statistics import mean # we only import mean function from statistics\n",
    "mean([1,2,3])               # we don't need to call statistics anymore. BUT this is not recommendable to avoide name crush."
   ]
  },
  {
   "cell_type": "markdown",
   "metadata": {},
   "source": [
    "You can make your own module with functions you want to reuse across scripts. [This example from the official python documentation](https://docs.python.org/3/tutorial/modules.html) shows how to do it:\n",
    "\n",
    "- first, write the code below to a text file called **fibo.py** and save it in the same folder as where you are running this notebook"
   ]
  },
  {
   "cell_type": "code",
   "execution_count": 4,
   "metadata": {},
   "outputs": [],
   "source": [
    "# Fibonacci numbers module\n",
    "\n",
    "def fib(n):\n",
    "    \"\"\"Write Fibonacci series up to n.\"\"\"\n",
    "    a, b = 0, 1\n",
    "    while a < n:\n",
    "        print(a, end=' ')\n",
    "        a, b = b, a+b\n",
    "    print()\n",
    "\n",
    "def fib2(n):\n",
    "    \"\"\"Return Fibonacci series up to n.\"\"\"\n",
    "    result = []\n",
    "    a, b = 0, 1\n",
    "    while a < n:\n",
    "        result.append(a)\n",
    "        a, b = b, a+b\n",
    "    return result"
   ]
  },
  {
   "cell_type": "markdown",
   "metadata": {},
   "source": [
    "Now you can import fibo and use the two functions:"
   ]
  },
  {
   "cell_type": "code",
   "execution_count": 5,
   "metadata": {},
   "outputs": [
    {
     "ename": "ModuleNotFoundError",
     "evalue": "No module named 'fibo'",
     "output_type": "error",
     "traceback": [
      "\u001b[0;31m---------------------------------------------------------------------------\u001b[0m",
      "\u001b[0;31mModuleNotFoundError\u001b[0m                       Traceback (most recent call last)",
      "Cell \u001b[0;32mIn[5], line 1\u001b[0m\n\u001b[0;32m----> 1\u001b[0m \u001b[38;5;28;01mimport\u001b[39;00m\u001b[38;5;250m \u001b[39m\u001b[38;5;21;01mfibo\u001b[39;00m\n\u001b[1;32m      3\u001b[0m fibo\u001b[38;5;241m.\u001b[39mfib(\u001b[38;5;241m1000\u001b[39m)\n\u001b[1;32m      5\u001b[0m \u001b[38;5;28mprint\u001b[39m(fibo\u001b[38;5;241m.\u001b[39mfib2(\u001b[38;5;241m100\u001b[39m))\n",
      "\u001b[0;31mModuleNotFoundError\u001b[0m: No module named 'fibo'"
     ]
    }
   ],
   "source": [
    "import fibo\n",
    "\n",
    "fibo.fib(1000)\n",
    "\n",
    "print(fibo.fib2(100))"
   ]
  },
  {
   "cell_type": "markdown",
   "metadata": {},
   "source": [
    "<font size=\"+3\">Handling exceptions</font>\n",
    "\n",
    "Sometimes you don't want a program to stop when an error happens, so you can run some code for that case. Python has exceptions as a way to cope with unexpected code execution: https://docs.python.org/3/library/exceptions.html#BaseException \n",
    "For example, each error in the code raises an exception, in this case NameError:"
   ]
  },
  {
   "cell_type": "code",
   "execution_count": 6,
   "metadata": {},
   "outputs": [
    {
     "ename": "NameError",
     "evalue": "name 'Print' is not defined",
     "output_type": "error",
     "traceback": [
      "\u001b[0;31m---------------------------------------------------------------------------\u001b[0m",
      "\u001b[0;31mNameError\u001b[0m                                 Traceback (most recent call last)",
      "Cell \u001b[0;32mIn[6], line 3\u001b[0m\n\u001b[1;32m      1\u001b[0m \u001b[38;5;66;03m# Python raises exceptions when it encounter errors. For example..\u001b[39;00m\n\u001b[0;32m----> 3\u001b[0m Print(\u001b[38;5;124m'\u001b[39m\u001b[38;5;124mHello!\u001b[39m\u001b[38;5;124m'\u001b[39m)\n",
      "\u001b[0;31mNameError\u001b[0m: name 'Print' is not defined"
     ]
    }
   ],
   "source": [
    "# Python raises exceptions when it encounter errors. For example..\n",
    "\n",
    "Print('Hello!') # -> NameError"
   ]
  },
  {
   "cell_type": "markdown",
   "metadata": {},
   "source": [
    "### Catching exceptions\n",
    "\n",
    "You can write you code to catch exceptions with **try, except** cases.\n",
    "\n",
    "In the following example, we have a list called short_list containing both integers and a string. The goal is to sum all integers in the list. However, adding a string to an integer will raise an exception, so we use try and except to handle this:"
   ]
  },
  {
   "cell_type": "code",
   "execution_count": 7,
   "metadata": {},
   "outputs": [
    {
     "ename": "TypeError",
     "evalue": "unsupported operand type(s) for +=: 'int' and 'str'",
     "output_type": "error",
     "traceback": [
      "\u001b[0;31m---------------------------------------------------------------------------\u001b[0m",
      "\u001b[0;31mTypeError\u001b[0m                                 Traceback (most recent call last)",
      "Cell \u001b[0;32mIn[7], line 5\u001b[0m\n\u001b[1;32m      3\u001b[0m \u001b[38;5;28msum\u001b[39m \u001b[38;5;241m=\u001b[39m \u001b[38;5;241m0\u001b[39m\n\u001b[1;32m      4\u001b[0m \u001b[38;5;28;01mfor\u001b[39;00m i \u001b[38;5;129;01min\u001b[39;00m short_list:\n\u001b[0;32m----> 5\u001b[0m     \u001b[38;5;28msum\u001b[39m \u001b[38;5;241m+\u001b[39m\u001b[38;5;241m=\u001b[39m i\n",
      "\u001b[0;31mTypeError\u001b[0m: unsupported operand type(s) for +=: 'int' and 'str'"
     ]
    }
   ],
   "source": [
    "short_list = [13, 45, 2, 'num', 5, 100]\n",
    "\n",
    "sum = 0\n",
    "for i in short_list:\n",
    "    sum += i"
   ]
  },
  {
   "cell_type": "markdown",
   "metadata": {},
   "source": [
    "We can use **try** and **except** to catch the exception of the error and prevent the code from stopping there, doing nothing with *pass*:"
   ]
  },
  {
   "cell_type": "code",
   "execution_count": 8,
   "metadata": {},
   "outputs": [
    {
     "name": "stdout",
     "output_type": "stream",
     "text": [
      "165\n"
     ]
    }
   ],
   "source": [
    "# try and except\n",
    "short_list = [13, 45, 2, 'two', 5, 100]\n",
    "\n",
    "sum = 0\n",
    "for i in short_list:\n",
    "    try:\n",
    "        sum += i                    # Try this statemtent \n",
    "    except:                         # But if there is an exception\n",
    "        pass                        # Do nothing\n",
    "print(sum)                   "
   ]
  },
  {
   "cell_type": "markdown",
   "metadata": {},
   "source": [
    "Or printing the item that caused the exception:"
   ]
  },
  {
   "cell_type": "code",
   "execution_count": 9,
   "metadata": {},
   "outputs": [
    {
     "name": "stdout",
     "output_type": "stream",
     "text": [
      "two: unsupported operand type(s) for +=: 'int' and 'str'\n",
      "Total sum: 165\n"
     ]
    }
   ],
   "source": [
    "short_list = [13, 45, 2, 'two', 5, 100]\n",
    "\n",
    "sum = 0\n",
    "for i in short_list:\n",
    "    try:\n",
    "        sum += i                    # Try this statement\n",
    "    except Exception as e:          # Catch any exception that occurs and stores the error message in e\n",
    "        print(\"{}: {}\".format(i, e))  # Print the item that caused an error and the error message\n",
    "\n",
    "print(\"Total sum:\", sum)\n",
    "\n"
   ]
  },
  {
   "cell_type": "markdown",
   "metadata": {},
   "source": [
    "You can catch different types of exceptions and also have a **finally** block that is only run if no exception is raised:"
   ]
  },
  {
   "cell_type": "code",
   "execution_count": 10,
   "metadata": {},
   "outputs": [
    {
     "name": "stdout",
     "output_type": "stream",
     "text": [
      "No exceptions!\n",
      "finished\n",
      "\n",
      "No exceptions!\n",
      "finished\n",
      "\n",
      "No exceptions!\n",
      "finished\n",
      "\n",
      "TypeError two: unsupported operand type(s) for +=: 'int' and 'str'\n",
      "finished\n",
      "\n",
      "No exceptions!\n",
      "finished\n",
      "\n",
      "No exceptions!\n",
      "finished\n",
      "\n",
      "Total sum: 165\n"
     ]
    }
   ],
   "source": [
    "short_list = [13, 45, 2, 'two', 5, 100]\n",
    "\n",
    "sum = 0\n",
    "for i in short_list:\n",
    "    try:\n",
    "        sum += i               # Try this statement\n",
    "    except TypeError as t:     # If there is a TypeError\n",
    "        print(\"TypeError {}: {}\".format(i, t))\n",
    "    except Exception as e:          # Catch any exception that occurs and stores the error message in e\n",
    "        print(\"{}: {}\".format(i, e))  # Print the item that caused an error and the error message\n",
    "    else:\n",
    "        print(\"No exceptions!\")    # else: if there was no exception, execute it.\n",
    "    finally:\n",
    "        print(\"finished\\n\")        # Execute it regardless of exceptions.\n",
    "print(\"Total sum:\", sum)"
   ]
  }
 ],
 "metadata": {
  "kernelspec": {
   "display_name": "Python [conda env:base] *",
   "language": "python",
   "name": "conda-base-py"
  },
  "language_info": {
   "codemirror_mode": {
    "name": "ipython",
    "version": 3
   },
   "file_extension": ".py",
   "mimetype": "text/x-python",
   "name": "python",
   "nbconvert_exporter": "python",
   "pygments_lexer": "ipython3",
   "version": "3.13.5"
  }
 },
 "nbformat": 4,
 "nbformat_minor": 4
}
