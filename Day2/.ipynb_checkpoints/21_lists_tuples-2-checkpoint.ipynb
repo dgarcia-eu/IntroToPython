{
 "cells": [
  {
   "cell_type": "markdown",
   "metadata": {
    "toc": true
   },
   "source": [
    "<font size=\"+3\">Advanced lists, slicing, and comprehensions</font>\n",
    "\n",
    "In this notebook, you will learn to store sequences of values beyond a single variable. \n",
    "\n",
    "**Table of contents:**\n",
    "* [1. Common List Manipulations](#Common-List-Manipulations)\n",
    "* [2. Removing Items from a List](#Removing-Items-from-a-List)\n",
    "* [3. Mutable vs. Immutable](#Mutable-vs.-Immutable)\n",
    "* [4. Slicing a List and others](#Slicing-a-List-and-others)\n",
    "* [5. Numerical Lists](#Numerical-Lists)\n",
    "* [6. Lists of Lists](#Lists-of-Lists)\n",
    "* [7. List Comprehensions](#List-Comprehensions)"
   ]
  },
  {
   "cell_type": "markdown",
   "metadata": {},
   "source": [
    "This lecture is adapted from the great 'Introduction to Python' course from Eric Matthes (https://ehmatthes.github.io/pcc/)\n",
    "and, like the original, is available under a [MIT license](../LICENSE.txt)."
   ]
  },
  {
   "cell_type": "markdown",
   "metadata": {},
   "source": [
    "# Common List Manipulations\n",
    "\n",
    "## Reversing a list\n",
    "We have seen three possible orders for a list:\n",
    "- The original order in which the list was created\n",
    "- Alphabetical order\n",
    "- Reverse alphabetical order\n",
    "\n",
    "There is one more order we can use, and that is the reverse of the original order of the list, whichever it was. The *reverse()* function gives us this order."
   ]
  },
  {
   "cell_type": "code",
   "execution_count": 1,
   "metadata": {},
   "outputs": [
    {
     "name": "stdout",
     "output_type": "stream",
     "text": [
      "['cody', 'aaron', 'bernice']\n"
     ]
    }
   ],
   "source": [
    "students = ['bernice', 'aaron', 'cody']\n",
    "students.reverse() # Reverse of the original order of the list\n",
    "\n",
    "print(students)"
   ]
  },
  {
   "cell_type": "markdown",
   "metadata": {},
   "source": [
    "Note that reverse is permanent, although you could follow up with another call to *reverse()* and get back the original order of the list."
   ]
  },
  {
   "cell_type": "markdown",
   "metadata": {},
   "source": [
    "### Sorting a numerical list\n",
    "All of the sorting functions work for numerical lists as well."
   ]
  },
  {
   "cell_type": "code",
   "execution_count": 2,
   "metadata": {},
   "outputs": [
    {
     "name": "stdout",
     "output_type": "stream",
     "text": [
      "[1, 2, 3, 4]\n",
      "[4, 3, 2, 1]\n"
     ]
    }
   ],
   "source": [
    "numbers = [1, 3, 4, 2]\n",
    "\n",
    "# sort() puts numbers in increasing order.\n",
    "numbers.sort()\n",
    "print(numbers)\n",
    "\n",
    "# sort(reverse=True) puts numbers in decreasing order.\n",
    "numbers.sort(reverse=True)\n",
    "print(numbers)\n"
   ]
  },
  {
   "cell_type": "code",
   "execution_count": 3,
   "metadata": {},
   "outputs": [
    {
     "name": "stdout",
     "output_type": "stream",
     "text": [
      "[1, 2, 3, 4]\n",
      "[1, 3, 4, 2]\n"
     ]
    }
   ],
   "source": [
    "numbers = [1, 3, 4, 2]\n",
    "\n",
    "# sorted() preserves the original order of the list:\n",
    "print(sorted(numbers))\n",
    "print(numbers)"
   ]
  },
  {
   "cell_type": "code",
   "execution_count": 4,
   "metadata": {},
   "outputs": [
    {
     "name": "stdout",
     "output_type": "stream",
     "text": [
      "[2, 4, 3, 1]\n"
     ]
    }
   ],
   "source": [
    "numbers = [1, 3, 4, 2]\n",
    "\n",
    "# The reverse() function also works for numerical lists.\n",
    "numbers.reverse()\n",
    "print(numbers)"
   ]
  },
  {
   "cell_type": "markdown",
   "metadata": {},
   "source": [
    "Finding the length of a list\n",
    "---\n",
    "You can find the length of a list using the *len()* function."
   ]
  },
  {
   "cell_type": "code",
   "execution_count": 5,
   "metadata": {},
   "outputs": [
    {
     "name": "stdout",
     "output_type": "stream",
     "text": [
      "3\n"
     ]
    }
   ],
   "source": [
    "usernames = ['bernice', 'cody', 'aaron']\n",
    "user_count = len(usernames)\n",
    "\n",
    "print(user_count)"
   ]
  },
  {
   "cell_type": "markdown",
   "metadata": {},
   "source": [
    "There are many situations where you might want to know how many items in a list. If you have a list that stores your users, you can find the length of your list at any time, and know how many users you have."
   ]
  },
  {
   "cell_type": "code",
   "execution_count": 6,
   "metadata": {},
   "outputs": [
    {
     "name": "stdout",
     "output_type": "stream",
     "text": [
      "We have 1 user!\n",
      "We have 3 users!\n"
     ]
    }
   ],
   "source": [
    "# Create an empty list to hold our users.\n",
    "usernames = []\n",
    "\n",
    "# Add some users, and report on how many users we have.\n",
    "usernames.append('bernice')\n",
    "user_count = len(usernames)\n",
    "\n",
    "print(\"We have \" + str(user_count) + \" user!\")\n",
    "\n",
    "usernames.append('cody')\n",
    "usernames.append('aaron')\n",
    "user_count = len(usernames)\n",
    "\n",
    "print(\"We have \" + str(user_count) + \" users!\")"
   ]
  },
  {
   "cell_type": "markdown",
   "metadata": {},
   "source": [
    "On a technical note, the *len()* function returns an integer, which can't be printed directly with strings. We use the *str()* function to *cast* it to a string before concatenating it with + so that it prints nicely:"
   ]
  },
  {
   "cell_type": "code",
   "execution_count": 7,
   "metadata": {},
   "outputs": [
    {
     "ename": "TypeError",
     "evalue": "can only concatenate str (not \"int\") to str",
     "output_type": "error",
     "traceback": [
      "\u001b[0;31m---------------------------------------------------------------------------\u001b[0m",
      "\u001b[0;31mTypeError\u001b[0m                                 Traceback (most recent call last)",
      "Cell \u001b[0;32mIn[7], line 4\u001b[0m\n\u001b[1;32m      1\u001b[0m usernames \u001b[38;5;241m=\u001b[39m [\u001b[38;5;124m'\u001b[39m\u001b[38;5;124mbernice\u001b[39m\u001b[38;5;124m'\u001b[39m, \u001b[38;5;124m'\u001b[39m\u001b[38;5;124mcody\u001b[39m\u001b[38;5;124m'\u001b[39m, \u001b[38;5;124m'\u001b[39m\u001b[38;5;124maaron\u001b[39m\u001b[38;5;124m'\u001b[39m]\n\u001b[1;32m      2\u001b[0m user_count \u001b[38;5;241m=\u001b[39m \u001b[38;5;28mlen\u001b[39m(usernames)\n\u001b[0;32m----> 4\u001b[0m \u001b[38;5;28mprint\u001b[39m(\u001b[38;5;124m\"\u001b[39m\u001b[38;5;124mThis will cause an error: \u001b[39m\u001b[38;5;124m\"\u001b[39m \u001b[38;5;241m+\u001b[39m user_count)\n",
      "\u001b[0;31mTypeError\u001b[0m: can only concatenate str (not \"int\") to str"
     ]
    }
   ],
   "source": [
    "usernames = ['bernice', 'cody', 'aaron']\n",
    "user_count = len(usernames)\n",
    "\n",
    "print(\"This will cause an error: \" + user_count)"
   ]
  },
  {
   "cell_type": "code",
   "execution_count": 8,
   "metadata": {},
   "outputs": [
    {
     "name": "stdout",
     "output_type": "stream",
     "text": [
      "This will work: 3\n"
     ]
    }
   ],
   "source": [
    "\n",
    "usernames = ['bernice', 'cody', 'aaron']\n",
    "user_count = len(usernames)\n",
    "\n",
    "print(\"This will work: \" + str(user_count))"
   ]
  },
  {
   "cell_type": "code",
   "execution_count": 9,
   "metadata": {},
   "outputs": [
    {
     "name": "stdout",
     "output_type": "stream",
     "text": [
      "this works too: 3\n"
     ]
    }
   ],
   "source": [
    "# But alternatively, you can also do like this, printing with several parameters without concatenating first\n",
    "\n",
    "print(\"this works too:\", user_count)"
   ]
  },
  {
   "cell_type": "markdown",
   "metadata": {},
   "source": [
    "## List Exercises\n",
    "\n",
    "- **Working List**\n",
    "    - Make a list that includes four careers, such as 'programmer' and 'truck driver'.\n",
    "    - Use the *list.index()* function to find the index of one career in your list.\n",
    "    - Use the *in* function to show that this career is in your list.\n",
    "    - Use the *append()* function to add a new career to your list.\n",
    "    - Use the *insert()* function to add a new career at the beginning of the list (see yesterday's notebook or search the web).\n",
    "    - Use a loop to show all the careers in your list.\n",
    "- **Ordered Working List**\n",
    "    - Start with the list you created in *Working List*.\n",
    "    - Print out the list in a number of different orders using the function *sorted()*\n",
    "    - Each time you print the list, use a for loop rather than printing the raw list.\n",
    "    - Print a message each time telling us what order we should see the list in.\n",
    "        - Print the list in its original order.\n",
    "        - Print the list in alphabetical order.\n",
    "        - Print the list in reverse alphabetical order.\n",
    "        - Use *sort()* to permanently sort the list in alphabetical order, and then print it out.\n",
    "- **List Lengths**\n",
    "    - Copy two or three of the lists you made from the previous exercises, or make up two or three new lists.\n",
    "    - Print out a series of statements that tell us how long each list is."
   ]
  },
  {
   "cell_type": "code",
   "execution_count": 10,
   "metadata": {},
   "outputs": [],
   "source": [
    "# Your code here"
   ]
  },
  {
   "cell_type": "code",
   "execution_count": 11,
   "metadata": {},
   "outputs": [],
   "source": [
    "# %load solutions/21_lists_tuples-2_ex1_1.py"
   ]
  },
  {
   "cell_type": "markdown",
   "metadata": {},
   "source": [
    "Removing Items from a List\n",
    "===\n",
    "Hopefully you can see by now that lists are a dynamic structure. We can define an empty list and then fill it up as information comes into our program. To become really dynamic, we need some ways to remove items from a list when we no longer need them. You can remove items from a list through their position, or through their value."
   ]
  },
  {
   "cell_type": "markdown",
   "metadata": {},
   "source": [
    "Removing items by position\n",
    "---\n",
    "If you know the position of an item in a list, you can remove that item using the *del* command. To use this approach, give the command *del* and the name of your list, with the index of the item you want to move in square brackets:"
   ]
  },
  {
   "cell_type": "code",
   "execution_count": 12,
   "metadata": {},
   "outputs": [
    {
     "name": "stdout",
     "output_type": "stream",
     "text": [
      "['australian cattle dog', 'labrador retriever']\n"
     ]
    }
   ],
   "source": [
    "dogs = ['border collie', 'australian cattle dog', 'labrador retriever']\n",
    "# Remove the first dog from the list.\n",
    "del dogs[0]\n",
    "\n",
    "print(dogs)"
   ]
  },
  {
   "cell_type": "markdown",
   "metadata": {},
   "source": [
    "Removing items by value\n",
    "---\n",
    "You can also remove an item from a list if you know its value. To do this, we use the *remove()* function. Give the name of the list, followed by the word remove with the value of the item you want to remove in parentheses. Python looks through your list, finds the first item with this value, and removes it."
   ]
  },
  {
   "cell_type": "code",
   "execution_count": 13,
   "metadata": {},
   "outputs": [
    {
     "ename": "ValueError",
     "evalue": "list.remove(x): x not in list",
     "output_type": "error",
     "traceback": [
      "\u001b[0;31m---------------------------------------------------------------------------\u001b[0m",
      "\u001b[0;31mValueError\u001b[0m                                Traceback (most recent call last)",
      "Cell \u001b[0;32mIn[13], line 3\u001b[0m\n\u001b[1;32m      1\u001b[0m dogs \u001b[38;5;241m=\u001b[39m [\u001b[38;5;124m'\u001b[39m\u001b[38;5;124mborder collie\u001b[39m\u001b[38;5;124m'\u001b[39m, \u001b[38;5;124m'\u001b[39m\u001b[38;5;124maustralian cattle dog\u001b[39m\u001b[38;5;124m'\u001b[39m, \u001b[38;5;124m'\u001b[39m\u001b[38;5;124mlabrador retriever\u001b[39m\u001b[38;5;124m'\u001b[39m]\n\u001b[1;32m      2\u001b[0m \u001b[38;5;66;03m# Remove australian cattle dog from the list.\u001b[39;00m\n\u001b[0;32m----> 3\u001b[0m dogs\u001b[38;5;241m.\u001b[39mremove(\u001b[38;5;124m'\u001b[39m\u001b[38;5;124mcattle dog\u001b[39m\u001b[38;5;124m'\u001b[39m)\n\u001b[1;32m      5\u001b[0m \u001b[38;5;28mprint\u001b[39m(dogs)\n",
      "\u001b[0;31mValueError\u001b[0m: list.remove(x): x not in list"
     ]
    }
   ],
   "source": [
    "dogs = ['border collie', 'australian cattle dog', 'labrador retriever']\n",
    "# Remove australian cattle dog from the list.\n",
    "dogs.remove('cattle dog')\n",
    "\n",
    "print(dogs)"
   ]
  },
  {
   "cell_type": "markdown",
   "metadata": {},
   "source": [
    "What happened above? Change the code for it to remove the element we wanted to remove."
   ]
  },
  {
   "cell_type": "markdown",
   "metadata": {},
   "source": [
    "Be careful to note, however, that *only* the first item with this value is removed. If you have multiple items with the same value, you will have some items with this value left in your list."
   ]
  },
  {
   "cell_type": "code",
   "execution_count": 14,
   "metadata": {},
   "outputs": [
    {
     "name": "stdout",
     "output_type": "stream",
     "text": [
      "['b', 'c', 'a', 'b', 'c']\n"
     ]
    }
   ],
   "source": [
    "letters = ['a', 'b', 'c', 'a', 'b', 'c']\n",
    "# Remove the letter a from the list.\n",
    "letters.remove('a')\n",
    "\n",
    "print(letters)"
   ]
  },
  {
   "cell_type": "markdown",
   "metadata": {},
   "source": [
    "Popping items from a list\n",
    "---\n",
    "There is a cool concept in programming called \"popping\" items from a collection. Every programming language has some sort of data structure similar to Python's lists. All of these structures can be used as queues, and there are various ways of processing the items in a queue.\n",
    "\n",
    "One simple approach is to start with an empty list, and then add items to that list. When you want to work with the items in the list, you always take the last item from the list, do something with it, and then remove that item. The *pop()* function makes this easy. It removes the last item from the list, and gives it to us so we can work with it. This is easier to show with an example:"
   ]
  },
  {
   "cell_type": "code",
   "execution_count": 15,
   "metadata": {},
   "outputs": [
    {
     "name": "stdout",
     "output_type": "stream",
     "text": [
      "labrador retriever\n",
      "['border collie', 'australian cattle dog']\n"
     ]
    }
   ],
   "source": [
    "dogs = ['border collie', 'australian cattle dog', 'labrador retriever']\n",
    "last_dog = dogs.pop()\n",
    "\n",
    "print(last_dog)\n",
    "print(dogs)"
   ]
  },
  {
   "cell_type": "markdown",
   "metadata": {},
   "source": [
    "**.pop()** is commonly used to implementing stacks. Stacks are a fundamental data structure used in computer science because they provide an efficient way to manage data in a Last-In-First-Out (LIFO) order. The first item in the list would be the last item processed if you kept using this approach. \n",
    "\n",
    "You can actually pop any item you want from a list, by giving the index of the item you want to pop. So we could do a first-in, first-out approach by popping the first iem in the list:"
   ]
  },
  {
   "cell_type": "code",
   "execution_count": 16,
   "metadata": {},
   "outputs": [
    {
     "name": "stdout",
     "output_type": "stream",
     "text": [
      "border collie\n",
      "['australian cattle dog', 'labrador retriever']\n"
     ]
    }
   ],
   "source": [
    "dogs = ['border collie', 'australian cattle dog', 'labrador retriever']\n",
    "first_dog = dogs.pop(0)\n",
    "\n",
    "print(first_dog)\n",
    "print(dogs)"
   ]
  },
  {
   "cell_type": "markdown",
   "metadata": {},
   "source": [
    "# Mutable vs. Immutable\n",
    "\n",
    "- Immutable objects do not allow in-place modifications. When you use them, you use their *value*:"
   ]
  },
  {
   "cell_type": "code",
   "execution_count": 17,
   "metadata": {},
   "outputs": [
    {
     "name": "stdout",
     "output_type": "stream",
     "text": [
      "3\n"
     ]
    }
   ],
   "source": [
    "a = 3\n",
    "b = a\n",
    "print(b)"
   ]
  },
  {
   "cell_type": "code",
   "execution_count": 18,
   "metadata": {},
   "outputs": [
    {
     "name": "stdout",
     "output_type": "stream",
     "text": [
      "3\n"
     ]
    }
   ],
   "source": [
    "a = 4\n",
    "print(b)"
   ]
  },
  {
   "cell_type": "markdown",
   "metadata": {},
   "source": [
    "- Mutable objects allow in-place modifications. When you use them, you use their *reference*:"
   ]
  },
  {
   "cell_type": "code",
   "execution_count": 19,
   "metadata": {},
   "outputs": [
    {
     "name": "stdout",
     "output_type": "stream",
     "text": [
      "[1, 100]\n"
     ]
    }
   ],
   "source": [
    "x = [1, 100]\n",
    "y = x\n",
    "print(y)"
   ]
  },
  {
   "cell_type": "code",
   "execution_count": 20,
   "metadata": {},
   "outputs": [
    {
     "name": "stdout",
     "output_type": "stream",
     "text": [
      "[100, 100]\n",
      "[100, 100]\n"
     ]
    }
   ],
   "source": [
    "x[0] = 100\n",
    "print(x)\n",
    "print(y)"
   ]
  },
  {
   "cell_type": "markdown",
   "metadata": {},
   "source": [
    "Visualize this on <a href=\"https://pythontutor.com/render.html#code=a%20%3D%203%0Ab%20%3D%20a%0Aprint%28b%29%0A%0Aa%20%3D%204%0Aprint%28b%29%0A%0Ax%20%3D%20%5B1,%20100%5D%0Ay%20%3D%20x%0Aprint%28y%29%0A%0Ax%5B0%5D%20%3D%20100%0Aprint%28x%29%0Aprint%28y%29&cumulative=false&curInstr=0&heapPrimitives=nevernest&mode=display&origin=opt-frontend.js&py=311&rawInputLstJSON=%5B%5D&textReferences=false\">pythontutor</a>.\n",
    "\n",
    "\n"
   ]
  },
  {
   "cell_type": "markdown",
   "metadata": {},
   "source": [
    "## Identity vs. Equality\n",
    "\n",
    "- `is` checks for identity (whether two references point to the same object)  \n",
    "- `==` checks for equality (whether the values of two objects are the same)\n",
    "\n",
    "`is` is useful for checking mutable objects like lists, dictionaries, and sets."
   ]
  },
  {
   "cell_type": "code",
   "execution_count": 21,
   "metadata": {},
   "outputs": [
    {
     "name": "stdout",
     "output_type": "stream",
     "text": [
      "True\n",
      "True\n",
      "False\n",
      "True\n"
     ]
    }
   ],
   "source": [
    "a = [1, 2, 3]\n",
    "b = a\n",
    "c = [1, 2, 3]\n",
    "\n",
    "print(a is b)  # Output: True, because b is a reference to the same list as a\n",
    "print(a == b)  # Output: True, because they have the same content\n",
    "\n",
    "print(a is c)  # Output: False, because c is a different object with the same content\n",
    "print(a == c)  # Output: True, because they have the same content"
   ]
  },
  {
   "cell_type": "markdown",
   "metadata": {},
   "source": [
    "`is` is commonly used with `None`, `True`, and `False` because these are single instances.\n",
    "This usage is both faster and more precise than `==` for these types, since there's only one `None` in memory."
   ]
  },
  {
   "cell_type": "code",
   "execution_count": 22,
   "metadata": {},
   "outputs": [
    {
     "name": "stdout",
     "output_type": "stream",
     "text": [
      "True\n"
     ]
    }
   ],
   "source": [
    "x = None\n",
    "print(x is None)  "
   ]
  },
  {
   "cell_type": "markdown",
   "metadata": {},
   "source": [
    "`None` represents the absence of a value or null value. It is used to signify that something is empty, missing, or not yet assigned. For example, you can use `None` as a placeholder in a varible that will be assigned later. You will see more examples of usage later when you learn functions."
   ]
  },
  {
   "cell_type": "code",
   "execution_count": 23,
   "metadata": {},
   "outputs": [],
   "source": [
    "x = None # Placeholder value\n",
    "# Some processing\n",
    "x = 42"
   ]
  },
  {
   "cell_type": "markdown",
   "metadata": {},
   "source": [
    "# Slicing a List and others\n",
    "\n",
    "Since a list is a collection of items, we should be able to get any subset of those items. For example, if we want to get just the first three items from the list, we should be able to do so easily. The same should be true for any three items in the middle of the list, or the last three items, or any x items from anywhere in the list. These subsets of a list are called *slices*.\n",
    "\n",
    "To get a subset of a list, we give the position of the first item we want, and the position of the first item we do *not* want to include in the subset. So the slice *list[0:3]* will return a list containing items 0, 1, and 2, but not item 3. Here is how you get a batch containing the first three items."
   ]
  },
  {
   "cell_type": "markdown",
   "metadata": {},
   "source": [
    "## seq[start: end: step] -> work for any sequence such as list, tuple, string\n",
    "\n",
    "**String examples:**"
   ]
  },
  {
   "cell_type": "code",
   "execution_count": 24,
   "metadata": {},
   "outputs": [
    {
     "name": "stdout",
     "output_type": "stream",
     "text": [
      "10\n",
      "0123456789\n"
     ]
    }
   ],
   "source": [
    "numbers = \"0123456789\"\n",
    "print(len(numbers))\n",
    "print(numbers)# check the length of string"
   ]
  },
  {
   "cell_type": "code",
   "execution_count": 25,
   "metadata": {},
   "outputs": [
    {
     "data": {
      "text/plain": [
       "'0'"
      ]
     },
     "execution_count": 25,
     "metadata": {},
     "output_type": "execute_result"
    }
   ],
   "source": [
    "numbers[0]"
   ]
  },
  {
   "cell_type": "code",
   "execution_count": 26,
   "metadata": {},
   "outputs": [
    {
     "data": {
      "text/plain": [
       "'123456789'"
      ]
     },
     "execution_count": 26,
     "metadata": {},
     "output_type": "execute_result"
    }
   ],
   "source": [
    "numbers[1:]"
   ]
  },
  {
   "cell_type": "code",
   "execution_count": 27,
   "metadata": {},
   "outputs": [
    {
     "data": {
      "text/plain": [
       "'01'"
      ]
     },
     "execution_count": 27,
     "metadata": {},
     "output_type": "execute_result"
    }
   ],
   "source": [
    "numbers[:2] # it prints end-1, in this case 2-1=1"
   ]
  },
  {
   "cell_type": "code",
   "execution_count": 28,
   "metadata": {},
   "outputs": [
    {
     "data": {
      "text/plain": [
       "'89'"
      ]
     },
     "execution_count": 28,
     "metadata": {},
     "output_type": "execute_result"
    }
   ],
   "source": [
    "numbers[-2:] # negative indices are count from the back (-1 = len(seq) -1)"
   ]
  },
  {
   "cell_type": "code",
   "execution_count": 29,
   "metadata": {},
   "outputs": [
    {
     "data": {
      "text/plain": [
       "'0369'"
      ]
     },
     "execution_count": 29,
     "metadata": {},
     "output_type": "execute_result"
    }
   ],
   "source": [
    "numbers[::3]"
   ]
  },
  {
   "cell_type": "code",
   "execution_count": 30,
   "metadata": {},
   "outputs": [
    {
     "data": {
      "text/plain": [
       "'9876543210'"
      ]
     },
     "execution_count": 30,
     "metadata": {},
     "output_type": "execute_result"
    }
   ],
   "source": [
    "numbers[::-1] # step backward"
   ]
  },
  {
   "cell_type": "code",
   "execution_count": 31,
   "metadata": {},
   "outputs": [
    {
     "ename": "TypeError",
     "evalue": "'str' object does not support item assignment",
     "output_type": "error",
     "traceback": [
      "\u001b[0;31m---------------------------------------------------------------------------\u001b[0m",
      "\u001b[0;31mTypeError\u001b[0m                                 Traceback (most recent call last)",
      "Cell \u001b[0;32mIn[31], line 1\u001b[0m\n\u001b[0;32m----> 1\u001b[0m numbers[\u001b[38;5;241m0\u001b[39m] \u001b[38;5;241m=\u001b[39m \u001b[38;5;124m\"\u001b[39m\u001b[38;5;124mn\u001b[39m\u001b[38;5;124m\"\u001b[39m\n",
      "\u001b[0;31mTypeError\u001b[0m: 'str' object does not support item assignment"
     ]
    }
   ],
   "source": [
    "numbers[0] = \"n\" # Error: because string is immutable"
   ]
  },
  {
   "cell_type": "markdown",
   "metadata": {},
   "source": [
    "Quick question: How can we make \"n123456789\" from `numbers`?"
   ]
  },
  {
   "cell_type": "code",
   "execution_count": 32,
   "metadata": {},
   "outputs": [],
   "source": [
    "# Your code here"
   ]
  },
  {
   "cell_type": "markdown",
   "metadata": {},
   "source": [
    "**List examples:**"
   ]
  },
  {
   "cell_type": "code",
   "execution_count": 33,
   "metadata": {},
   "outputs": [
    {
     "name": "stdout",
     "output_type": "stream",
     "text": [
      "['bernice', 'cody', 'aaron']\n"
     ]
    }
   ],
   "source": [
    "usernames = ['bernice', 'cody', 'aaron', 'ever', 'dalia']\n",
    "\n",
    "# Grab the first three users in the list.\n",
    "first_batch = usernames[0:3]\n",
    "\n",
    "print(first_batch)"
   ]
  },
  {
   "cell_type": "markdown",
   "metadata": {},
   "source": [
    "If you want to grab everything up to a certain position in the list, you can also leave the first index blank:"
   ]
  },
  {
   "cell_type": "code",
   "execution_count": 34,
   "metadata": {},
   "outputs": [
    {
     "name": "stdout",
     "output_type": "stream",
     "text": [
      "bernice\n",
      "cody\n",
      "aaron\n"
     ]
    }
   ],
   "source": [
    "\n",
    "usernames = ['bernice', 'cody', 'aaron', 'ever', 'dalia']\n",
    "\n",
    "# Grab the first three users in the list.\n",
    "first_batch = usernames[:3]\n",
    "\n",
    "for user in first_batch:\n",
    "    print(user)"
   ]
  },
  {
   "cell_type": "markdown",
   "metadata": {},
   "source": [
    "We can get any segment of a list we want, using the slice method:"
   ]
  },
  {
   "cell_type": "code",
   "execution_count": 35,
   "metadata": {},
   "outputs": [
    {
     "name": "stdout",
     "output_type": "stream",
     "text": [
      "['cody', 'aaron', 'ever']\n"
     ]
    }
   ],
   "source": [
    "usernames = ['bernice', 'cody', 'aaron', 'ever', 'dalia']\n",
    "\n",
    "# Grab a batch from the middle of the list.\n",
    "middle_batch = usernames[1:4]\n",
    "\n",
    "print(middle_batch)"
   ]
  },
  {
   "cell_type": "markdown",
   "metadata": {},
   "source": [
    "To get all items from one position in the list to the end of the list, we can leave off the second index:"
   ]
  },
  {
   "cell_type": "code",
   "execution_count": 36,
   "metadata": {},
   "outputs": [
    {
     "name": "stdout",
     "output_type": "stream",
     "text": [
      "['aaron', 'ever', 'dalia']\n"
     ]
    }
   ],
   "source": [
    "usernames = ['bernice', 'cody', 'aaron', 'ever', 'dalia']\n",
    "\n",
    "# Grab all users from the third to the end.\n",
    "end_batch = usernames[2:]\n",
    "\n",
    "print(end_batch)"
   ]
  },
  {
   "cell_type": "markdown",
   "metadata": {},
   "source": [
    "Quick question: How can we reverse a list via slicing?"
   ]
  },
  {
   "cell_type": "code",
   "execution_count": 37,
   "metadata": {},
   "outputs": [],
   "source": [
    "# Your code here"
   ]
  },
  {
   "cell_type": "markdown",
   "metadata": {},
   "source": [
    "## Copying a list\n",
    "- Remember that lists are  'mutable'\n",
    "- To copy a list as a new list: **list.copy()** or **list[:]**"
   ]
  },
  {
   "cell_type": "code",
   "execution_count": 38,
   "metadata": {},
   "outputs": [
    {
     "name": "stdout",
     "output_type": "stream",
     "text": [
      "The full copied list:\n",
      "\t ['bernice', 'cody', 'aaron', 'ever', 'dalia']\n",
      "\n",
      "Two users removed from copied list:\n",
      "\t ['aaron', 'ever', 'dalia']\n",
      "\n",
      "The original list:\n",
      "\t ['bernice', 'cody', 'aaron', 'ever', 'dalia']\n"
     ]
    }
   ],
   "source": [
    "usernames = ['bernice', 'cody', 'aaron', 'ever', 'dalia']\n",
    "\n",
    "# Make a copy of the list.\n",
    "# copied_usernames = usernames[:]\n",
    "copied_usernames = usernames.copy()\n",
    "print(\"The full copied list:\\n\\t\", copied_usernames)\n",
    "\n",
    "# Remove the first two users from the copied list.\n",
    "del copied_usernames[0]\n",
    "del copied_usernames[0]\n",
    "print(\"\\nTwo users removed from copied list:\\n\\t\", copied_usernames)\n",
    "\n",
    "# The original list is unaffected.\n",
    "print(\"\\nThe original list:\\n\\t\", usernames)"
   ]
  },
  {
   "cell_type": "markdown",
   "metadata": {},
   "source": [
    "Numerical Lists\n",
    "===\n",
    "There is nothing special about lists of numbers, but there are some functions you can use to make working with numerical lists more efficient. Let's make a list of the first ten numbers, and start working with it to see how we can use numbers in a list."
   ]
  },
  {
   "cell_type": "code",
   "execution_count": 39,
   "metadata": {},
   "outputs": [
    {
     "name": "stdout",
     "output_type": "stream",
     "text": [
      "1\n",
      "2\n",
      "3\n",
      "4\n",
      "5\n",
      "6\n",
      "7\n",
      "8\n",
      "9\n",
      "10\n"
     ]
    }
   ],
   "source": [
    "# Print out the first ten numbers.\n",
    "numbers = [1, 2, 3, 4, 5, 6, 7, 8, 9, 10]\n",
    "\n",
    "for number in numbers:\n",
    "    print(number)"
   ]
  },
  {
   "cell_type": "markdown",
   "metadata": {},
   "source": [
    "The *range()* function\n",
    "---\n",
    "\n",
    "**range(start, end, step)**: Returns sequence of numbers\n",
    "\n",
    "This works, but it is not very efficient if we want to work with a large set of numbers. The *range()* function helps us generate long lists of numbers. Here are two ways to do the same thing, using the *range* function."
   ]
  },
  {
   "cell_type": "code",
   "execution_count": 40,
   "metadata": {},
   "outputs": [
    {
     "data": {
      "text/plain": [
       "[0, 2, 4, 6, 8]"
      ]
     },
     "execution_count": 40,
     "metadata": {},
     "output_type": "execute_result"
    }
   ],
   "source": [
    "list(range(0,10,2))"
   ]
  },
  {
   "cell_type": "code",
   "execution_count": 41,
   "metadata": {},
   "outputs": [
    {
     "data": {
      "text/plain": [
       "[0, 1, 2, 3, 4]"
      ]
     },
     "execution_count": 41,
     "metadata": {},
     "output_type": "execute_result"
    }
   ],
   "source": [
    "list(range(5)) # range(5) is the same as range(0,5)"
   ]
  },
  {
   "cell_type": "code",
   "execution_count": 42,
   "metadata": {},
   "outputs": [
    {
     "name": "stdout",
     "output_type": "stream",
     "text": [
      "1\n",
      "2\n",
      "3\n",
      "4\n",
      "5\n",
      "6\n",
      "7\n",
      "8\n",
      "9\n",
      "10\n"
     ]
    }
   ],
   "source": [
    "# Print the first ten numbers.\n",
    "for number in range(1,11):\n",
    "    print(number)"
   ]
  },
  {
   "cell_type": "markdown",
   "metadata": {},
   "source": [
    "The range function takes in a starting number, and an end number. You get all integers, up to but not including the end number. You can also add a *step* value, which tells the *range* function how big of a step to take between numbers:"
   ]
  },
  {
   "cell_type": "code",
   "execution_count": 43,
   "metadata": {},
   "outputs": [
    {
     "name": "stdout",
     "output_type": "stream",
     "text": [
      "1\n",
      "3\n",
      "5\n",
      "7\n",
      "9\n",
      "11\n",
      "13\n",
      "15\n",
      "17\n",
      "19\n"
     ]
    }
   ],
   "source": [
    "# Print the first ten odd numbers.\n",
    "for number in range(1,21,2):\n",
    "    print(number)"
   ]
  },
  {
   "cell_type": "markdown",
   "metadata": {},
   "source": [
    "If we want to store these numbers in a list, we can use the *list()* function. This function takes in a range, and turns it into a list:"
   ]
  },
  {
   "cell_type": "code",
   "execution_count": 44,
   "metadata": {},
   "outputs": [
    {
     "name": "stdout",
     "output_type": "stream",
     "text": [
      "[1, 2, 3, 4, 5, 6, 7, 8, 9, 10]\n"
     ]
    }
   ],
   "source": [
    "# Create a list of the first ten numbers.\n",
    "numbers = list(range(1,11))\n",
    "print(numbers)"
   ]
  },
  {
   "cell_type": "markdown",
   "metadata": {},
   "source": [
    "This is incredibly powerful; we can now create a list of the first million numbers, just as easily as we made a list of the first ten numbers. It doesn't really make sense to print the million numbers here, but we can show that the list really does have one million items in it, and we can print the last ten items to show that the list is correct."
   ]
  },
  {
   "cell_type": "code",
   "execution_count": 45,
   "metadata": {},
   "outputs": [
    {
     "name": "stdout",
     "output_type": "stream",
     "text": [
      "The list 'numbers' has 1000000 numbers in it.\n",
      "\n",
      "The last ten numbers in the list are:\n",
      "999991\n",
      "999992\n",
      "999993\n",
      "999994\n",
      "999995\n",
      "999996\n",
      "999997\n",
      "999998\n",
      "999999\n",
      "1000000\n"
     ]
    }
   ],
   "source": [
    "# Store the first million numbers in a list.\n",
    "numbers = list(range(1,1000001))\n",
    "\n",
    "# Show the length of the list:\n",
    "print(\"The list 'numbers' has \" + str(len(numbers)) + \" numbers in it.\")\n",
    "\n",
    "# Show the last ten numbers:\n",
    "print(\"\\nThe last ten numbers in the list are:\")\n",
    "for number in numbers[-10:]:\n",
    "    print(number)"
   ]
  },
  {
   "cell_type": "markdown",
   "metadata": {},
   "source": [
    "There are two things here that might be a little unclear. The expression\n",
    "\n",
    "    str(len(numbers))\n",
    "\n",
    "takes the length of the *numbers* list, and turns it into a string that can be printed.\n",
    "\n",
    "The expression \n",
    "\n",
    "    numbers[-10:]\n",
    "\n",
    "gives us a *slice* of the list. The index `-1` is the last item in the list, and the index `-10` is the item ten places from the end of the list. So the slice `numbers[-10:]` gives us everything from that item to the end of the list."
   ]
  },
  {
   "cell_type": "markdown",
   "metadata": {},
   "source": [
    "## Numerical List Exercises\n",
    "\n",
    "- **First Twenty**\n",
    "    - Use the *range()* function to store the first twenty numbers (1-20) in a list, and print them out.\n",
    "- **Five Wallets**\n",
    "    - Imagine five wallets with different amounts of cash in them. Store these five values in a list, and print out the following sentences:\n",
    "        - \"The fattest wallet has \\$*value* in it.\"\n",
    "        - \"The skinniest wallet has \\$*value* in it.\"\n",
    "        - \"All together, these wallets have \\$*value* in them.\""
   ]
  },
  {
   "cell_type": "code",
   "execution_count": 46,
   "metadata": {},
   "outputs": [],
   "source": [
    "# Your code here"
   ]
  },
  {
   "cell_type": "code",
   "execution_count": 47,
   "metadata": {},
   "outputs": [],
   "source": [
    "# %load \"solutions/21_lists_tuples-2_ex1_2.py\""
   ]
  },
  {
   "cell_type": "markdown",
   "metadata": {},
   "source": [
    "# Lists of Lists\n",
    "\n",
    "Concatenating three lists:"
   ]
  },
  {
   "cell_type": "code",
   "execution_count": 48,
   "metadata": {},
   "outputs": [
    {
     "name": "stdout",
     "output_type": "stream",
     "text": [
      "[1, 2, 3, 4, 5, 6, 7, 8, 9]\n"
     ]
    }
   ],
   "source": [
    "list_1 = [1, 2, 3]\n",
    "list_2 = [4, 5, 6]\n",
    "list_3 = [7, 8, 9]\n",
    "print(list_1 + list_2 + list_3)"
   ]
  },
  {
   "cell_type": "markdown",
   "metadata": {},
   "source": [
    "Is diffent than *appending* them as a list of lists:"
   ]
  },
  {
   "cell_type": "code",
   "execution_count": 49,
   "metadata": {},
   "outputs": [
    {
     "name": "stdout",
     "output_type": "stream",
     "text": [
      "[[1, 2, 3], [4, 5, 6], [7, 8, 9]]\n"
     ]
    }
   ],
   "source": [
    "l = [list_1, list_2, list_3]\n",
    "print(l)"
   ]
  },
  {
   "cell_type": "markdown",
   "metadata": {},
   "source": [
    "Or one by one:"
   ]
  },
  {
   "cell_type": "code",
   "execution_count": 50,
   "metadata": {},
   "outputs": [
    {
     "name": "stdout",
     "output_type": "stream",
     "text": [
      "[[1, 2, 3], [4, 5, 6], [7, 8, 9]]\n"
     ]
    }
   ],
   "source": [
    "list_of_lists = []\n",
    "list_of_lists.append(list_1)\n",
    "list_of_lists.append(list_2)\n",
    "list_of_lists.append(list_3)\n",
    "print(list_of_lists)"
   ]
  },
  {
   "cell_type": "markdown",
   "metadata": {},
   "source": [
    "We could have also created this directly. Sometimes this is also called \"nested lists\":"
   ]
  },
  {
   "cell_type": "code",
   "execution_count": 51,
   "metadata": {},
   "outputs": [
    {
     "name": "stdout",
     "output_type": "stream",
     "text": [
      "[[1, 2, 3], [4, 5, 6], [7, 8, 9]]\n"
     ]
    }
   ],
   "source": [
    "list_of_lists = [[1, 2, 3],\n",
    "                 [4, 5, 6],\n",
    "                 [7, 8, 9]]\n",
    "print(list_of_lists)"
   ]
  },
  {
   "cell_type": "markdown",
   "metadata": {},
   "source": [
    "Access works like any other list, but the result is a list:"
   ]
  },
  {
   "cell_type": "code",
   "execution_count": 52,
   "metadata": {},
   "outputs": [
    {
     "data": {
      "text/plain": [
       "[4, 5, 6]"
      ]
     },
     "execution_count": 52,
     "metadata": {},
     "output_type": "execute_result"
    }
   ],
   "source": [
    "list_of_lists[1]"
   ]
  },
  {
   "cell_type": "markdown",
   "metadata": {},
   "source": [
    "To access an element of one of the lists requires an additional index:"
   ]
  },
  {
   "cell_type": "code",
   "execution_count": 53,
   "metadata": {},
   "outputs": [
    {
     "data": {
      "text/plain": [
       "4"
      ]
     },
     "execution_count": 53,
     "metadata": {},
     "output_type": "execute_result"
    }
   ],
   "source": [
    "list_of_lists[1][0]"
   ]
  },
  {
   "cell_type": "markdown",
   "metadata": {},
   "source": [
    "Sometimes, lists of lists are also called matrices if each list has the same length. It is also a common way of storing datasets or tables. For example:"
   ]
  },
  {
   "cell_type": "code",
   "execution_count": 54,
   "metadata": {},
   "outputs": [
    {
     "data": {
      "text/plain": [
       "[['Country', 'Name', 'Born', 'Party'],\n",
       " ['Germany', 'Angela Merkal', 1954, 'CDU'],\n",
       " ['United States', 'Donald Trump', 1946, 'Republican'],\n",
       " ['France', 'Emmanuel Macron', 1977, 'REM']]"
      ]
     },
     "execution_count": 54,
     "metadata": {},
     "output_type": "execute_result"
    }
   ],
   "source": [
    "col_names = ['Country','Name','Born','Party']\n",
    "germany = ['Germany','Angela Merkal', 1954, 'CDU']\n",
    "us = ['United States', 'Donald Trump', 1946, 'Republican']\n",
    "france = ['France','Emmanuel Macron', 1977, 'REM']\n",
    "\n",
    "head_of_gov = [col_names, germany, us, france]\n",
    "head_of_gov # matrix"
   ]
  },
  {
   "cell_type": "code",
   "execution_count": 55,
   "metadata": {},
   "outputs": [
    {
     "data": {
      "text/plain": [
       "'France'"
      ]
     },
     "execution_count": 55,
     "metadata": {},
     "output_type": "execute_result"
    }
   ],
   "source": [
    "head_of_gov[3][0]"
   ]
  },
  {
   "cell_type": "code",
   "execution_count": 56,
   "metadata": {},
   "outputs": [
    {
     "name": "stdout",
     "output_type": "stream",
     "text": [
      "[['Country', 'Name', 'Born', 'Party'], ['Germany', 'Angela Merkel', 1954, 'CDU'], ['United States', 'Donald Trump', 1946, 'Republican'], ['France', 'Emmanuel Macron', 1977, 'REM']]\n"
     ]
    }
   ],
   "source": [
    "# change\n",
    "germany[1] = 'Angela Merkel' # change. -> head_of_gov[1][1] = 'Angela Merkel'\n",
    "print(head_of_gov)"
   ]
  },
  {
   "cell_type": "markdown",
   "metadata": {},
   "source": [
    "## zip(): Pairing lists element-wise"
   ]
  },
  {
   "cell_type": "code",
   "execution_count": 57,
   "metadata": {},
   "outputs": [],
   "source": [
    "col_names = ['Country', 'Name', 'Born', 'Party']\n",
    "germany = ['Germany', 'Angela Merkel', 1954, 'CDU']"
   ]
  },
  {
   "cell_type": "code",
   "execution_count": 58,
   "metadata": {},
   "outputs": [
    {
     "data": {
      "text/plain": [
       "[('Country', 'Germany'),\n",
       " ('Name', 'Angela Merkel'),\n",
       " ('Born', 1954),\n",
       " ('Party', 'CDU')]"
      ]
     },
     "execution_count": 58,
     "metadata": {},
     "output_type": "execute_result"
    }
   ],
   "source": [
    "list(zip(col_names, germany))"
   ]
  },
  {
   "cell_type": "code",
   "execution_count": 59,
   "metadata": {},
   "outputs": [
    {
     "name": "stdout",
     "output_type": "stream",
     "text": [
      "('Country', 'Germany')\n",
      "('Name', 'Angela Merkel')\n",
      "('Born', 1954)\n",
      "('Party', 'CDU')\n"
     ]
    }
   ],
   "source": [
    "for i in zip(col_names, germany):\n",
    "    print(i)"
   ]
  },
  {
   "cell_type": "markdown",
   "metadata": {},
   "source": [
    "## Join and Split"
   ]
  },
  {
   "cell_type": "markdown",
   "metadata": {},
   "source": [
    "*join()* is a string method that allows you to turn a list into a string with all elements joined by the string you called join on:"
   ]
  },
  {
   "cell_type": "code",
   "execution_count": 60,
   "metadata": {},
   "outputs": [
    {
     "name": "stdout",
     "output_type": "stream",
     "text": [
      "a&b&c\n",
      "<class 'str'>\n"
     ]
    }
   ],
   "source": [
    "li = ['a', 'b', 'c']\n",
    "s = '&'.join(li) #--> this notation is somewhat out of the ordinary for Python, as the split/join character is not given in the function \n",
    "#as e.g. li.join('&') , but we will not see this very often\n",
    "print(s)\n",
    "print(type(s))"
   ]
  },
  {
   "cell_type": "markdown",
   "metadata": {},
   "source": [
    "*split()* does the opposite: it splits a string along a separating character and returns a list:"
   ]
  },
  {
   "cell_type": "code",
   "execution_count": 61,
   "metadata": {},
   "outputs": [
    {
     "data": {
      "text/plain": [
       "['a', 'b', 'c']"
      ]
     },
     "execution_count": 61,
     "metadata": {},
     "output_type": "execute_result"
    }
   ],
   "source": [
    "s.split(\"&\")"
   ]
  },
  {
   "cell_type": "markdown",
   "metadata": {},
   "source": [
    "## Count the occurences of a value in a list\n",
    "How many times does a particular value appear in a list? *count()* allows you to count one particular value:"
   ]
  },
  {
   "cell_type": "code",
   "execution_count": 62,
   "metadata": {},
   "outputs": [
    {
     "data": {
      "text/plain": [
       "4"
      ]
     },
     "execution_count": 62,
     "metadata": {},
     "output_type": "execute_result"
    }
   ],
   "source": [
    "[1,2,1,3,4,1,1].count(1)"
   ]
  },
  {
   "cell_type": "markdown",
   "metadata": {},
   "source": [
    "List Comprehensions\n",
    "===\n",
    "If you are brand new to programming, list comprehensions may look confusing at first. They are a shorthand way of creating and working with lists. It is good to be aware of list comprehensions, because you will see them in other people's code, and they are really useful when you understand how to use them. That said, if they don't make sense to you yet, don't worry about using them right away. When you have worked with enough lists, you will want to use comprehensions. For now, it is good enough to know they exist, and to recognize them when you see them. If you like them, go ahead and start trying to use them now.\n",
    "\n",
    "Numerical Comprehensions\n",
    "---\n",
    "Let's consider how we might make a list of the first ten square numbers. We could do it like this:"
   ]
  },
  {
   "cell_type": "code",
   "execution_count": 63,
   "metadata": {},
   "outputs": [
    {
     "name": "stdout",
     "output_type": "stream",
     "text": [
      "1\n",
      "4\n",
      "9\n",
      "16\n",
      "25\n",
      "36\n",
      "49\n",
      "64\n",
      "81\n",
      "100\n"
     ]
    }
   ],
   "source": [
    "# Store the first ten square numbers in a list.\n",
    "# Make an empty list that will hold our square numbers.\n",
    "squares = []\n",
    "\n",
    "# Go through the first ten numbers, square them, and add them to our list.\n",
    "for number in range(1,11):\n",
    "    new_square = number**2\n",
    "    squares.append(new_square)\n",
    "    \n",
    "# Show that our list is correct.\n",
    "for square in squares:\n",
    "    print(square)"
   ]
  },
  {
   "cell_type": "markdown",
   "metadata": {},
   "source": [
    "This should make sense at this point. \n",
    "Visualize it at [Pythontutor](https://goo.gl/Cmhfff)\n",
    "\n",
    "If it doesn't, go over the code with these thoughts in mind:\n",
    "- We make an empty list called *squares* that will hold the values we are interested in.\n",
    "- Using the *range()* function, we start a loop that will go through the numbers 1-10.\n",
    "- Each time we pass through the loop, we find the square of the current number by raising it to the second power.\n",
    "- We add this new value to our list *squares*.\n",
    "- We go through our newly-defined list and print out each square.\n",
    "\n",
    "Now let's make this code more efficient. We don't really need to store the new square in its own variable *new_square*; we can just add it directly to the list of squares. The line\n",
    "\n",
    "    new_square = number**2\n",
    "\n",
    "is taken out, and the next line takes care of the squaring:"
   ]
  },
  {
   "cell_type": "code",
   "execution_count": 64,
   "metadata": {},
   "outputs": [
    {
     "name": "stdout",
     "output_type": "stream",
     "text": [
      "1\n",
      "4\n",
      "9\n",
      "16\n",
      "25\n",
      "36\n",
      "49\n",
      "64\n",
      "81\n",
      "100\n"
     ]
    }
   ],
   "source": [
    "# Store the first ten square numbers in a list.\n",
    "# Make an empty list that will hold our square numbers.\n",
    "squares = []\n",
    "\n",
    "# Go through the first ten numbers, square them, and add them to our list.\n",
    "for number in range(1,11):\n",
    "    squares.append(number**2)\n",
    "    \n",
    "# Show that our list is correct.\n",
    "for square in squares:\n",
    "    print(square)"
   ]
  },
  {
   "cell_type": "markdown",
   "metadata": {},
   "source": [
    "List comprehensions have the following structure: \n",
    "\n",
    "[expression **for** item **in** iterable **if** condition]\n",
    "\n",
    "List comprehensions allow us to collapse the first three lines of code into one line. Here's what it looks like:"
   ]
  },
  {
   "cell_type": "code",
   "execution_count": 65,
   "metadata": {},
   "outputs": [
    {
     "name": "stdout",
     "output_type": "stream",
     "text": [
      "1\n",
      "4\n",
      "9\n",
      "16\n",
      "25\n",
      "36\n",
      "49\n",
      "64\n",
      "81\n",
      "100\n"
     ]
    }
   ],
   "source": [
    "\n",
    "# Store the first ten square numbers in a list.\n",
    "squares = [number**2 for number in range(1,11)]\n",
    "\n",
    "# Show that our list is correct.\n",
    "for square in squares:\n",
    "    print(square)"
   ]
  },
  {
   "cell_type": "markdown",
   "metadata": {},
   "source": [
    "It should be pretty clear that this code is more efficient than our previous approach, but it may not be clear what is happening. Let's take a look at everything that is happening in that first line:\n",
    "\n",
    "We define a list called *squares*.\n",
    "\n",
    "Look at the second part of what's in square brackets:\n",
    "\n",
    "    for number in range(1,11)\n",
    "\n",
    "This sets up a loop that goes through the numbers 1-10, storing each value in the variable *number*. Now we can see what happens to each *number* in the loop:\n",
    "\n",
    "    number**2\n",
    "\n",
    "Each number is raised to the second power, and this is the value that is stored in the list we defined. We might read this line in the following way:\n",
    "\n",
    "squares = [raise *number* to the second power, for each *number* in the range 1-10]"
   ]
  },
  {
   "cell_type": "markdown",
   "metadata": {},
   "source": [
    "Quick exercise: add an if condition such that only the even squared numbers are printed."
   ]
  },
  {
   "cell_type": "code",
   "execution_count": 66,
   "metadata": {},
   "outputs": [],
   "source": [
    "# Your code here"
   ]
  },
  {
   "cell_type": "markdown",
   "metadata": {},
   "source": [
    "Another quick exercise: How can you do the same with only one line of code?"
   ]
  },
  {
   "cell_type": "code",
   "execution_count": 67,
   "metadata": {},
   "outputs": [],
   "source": [
    "# Your code here"
   ]
  },
  {
   "cell_type": "markdown",
   "metadata": {},
   "source": [
    "## Another list comprehension example\n",
    "It is probably helpful to see a few more examples of how comprehensions can be used. Let's try to make the first ten even numbers, the longer way:"
   ]
  },
  {
   "cell_type": "code",
   "execution_count": 68,
   "metadata": {},
   "outputs": [
    {
     "name": "stdout",
     "output_type": "stream",
     "text": [
      "2\n",
      "4\n",
      "6\n",
      "8\n",
      "10\n",
      "12\n",
      "14\n",
      "16\n",
      "18\n",
      "20\n"
     ]
    }
   ],
   "source": [
    "# Make an empty list that will hold the even numbers.\n",
    "evens = []\n",
    "\n",
    "# Loop through the numbers 1-10, double each one, and add it to our list.\n",
    "for number in range(1,11):\n",
    "    evens.append(number*2)\n",
    "    \n",
    "# Show that our list is correct:\n",
    "for even in evens:\n",
    "    print(even)"
   ]
  },
  {
   "cell_type": "markdown",
   "metadata": {},
   "source": [
    "Here's how we might think of doing the same thing, using a list comprehension:\n",
    "\n",
    "evens = [multiply each *number* by 2, for each *number* in the range 1-10]\n",
    "\n",
    "Here is the same line in code:"
   ]
  },
  {
   "cell_type": "code",
   "execution_count": 69,
   "metadata": {},
   "outputs": [
    {
     "data": {
      "text/plain": [
       "[2, 4, 6, 8, 10, 12, 14, 16, 18, 20]"
      ]
     },
     "execution_count": 69,
     "metadata": {},
     "output_type": "execute_result"
    }
   ],
   "source": [
    "evens = [number*2 for number in range(1, 11)]\n",
    "evens"
   ]
  },
  {
   "cell_type": "code",
   "execution_count": 70,
   "metadata": {},
   "outputs": [
    {
     "name": "stdout",
     "output_type": "stream",
     "text": [
      "2\n",
      "4\n",
      "6\n",
      "8\n",
      "10\n",
      "12\n",
      "14\n",
      "16\n",
      "18\n",
      "20\n"
     ]
    }
   ],
   "source": [
    "\n",
    "# Make a list of the first ten even numbers.\n",
    "evens = [number*2 for number in range(1,11)]\n",
    "\n",
    "for even in evens:\n",
    "    print(even)"
   ]
  },
  {
   "cell_type": "markdown",
   "metadata": {},
   "source": [
    "Non-numerical comprehensions\n",
    "---\n",
    "We can use comprehensions with non-numerical lists as well. In this case, we will create an initial list, and then use a comprehension to make a second list from the first one. Here is a simple example, without using comprehensions:"
   ]
  },
  {
   "cell_type": "code",
   "execution_count": 71,
   "metadata": {},
   "outputs": [
    {
     "name": "stdout",
     "output_type": "stream",
     "text": [
      "['bernice the great!', 'aaron the great!', 'cody the great!']\n"
     ]
    }
   ],
   "source": [
    "# Consider some students.\n",
    "students = ['bernice', 'aaron', 'cody']\n",
    "\n",
    "# Let's turn them into great students.\n",
    "great_students = []\n",
    "for student in students:\n",
    "    great_students.append(student + \" the great!\")\n",
    "\n",
    "print(great_students)"
   ]
  },
  {
   "cell_type": "markdown",
   "metadata": {},
   "source": [
    "To use a comprehension in this code, we want to write something like this:\n",
    "\n",
    "great_students = [add 'the great' to each *student*, for each *student* in the list of *students*]\n",
    "\n",
    "Here's what it looks like:"
   ]
  },
  {
   "cell_type": "code",
   "execution_count": 72,
   "metadata": {},
   "outputs": [
    {
     "name": "stdout",
     "output_type": "stream",
     "text": [
      "['bernice the great!', 'aaron the great!', 'cody the great!']\n"
     ]
    }
   ],
   "source": [
    "# Consider some students.\n",
    "students = ['bernice', 'aaron', 'cody']\n",
    "\n",
    "# Let's turn them into great students.\n",
    "great_students = [student + \" the great!\" for student in students]\n",
    "\n",
    "print(great_students)"
   ]
  },
  {
   "cell_type": "markdown",
   "metadata": {},
   "source": [
    "Another example: Let's create a list consisting of the names of students whose names are less than 6 characters."
   ]
  },
  {
   "cell_type": "code",
   "execution_count": 73,
   "metadata": {},
   "outputs": [
    {
     "name": "stdout",
     "output_type": "stream",
     "text": [
      "['aaron', 'cody']\n"
     ]
    }
   ],
   "source": [
    "students = ['bernice', 'aaron', 'cody']\n",
    "short_names = [s for s in students if len(s) < 6]\n",
    "print(short_names)"
   ]
  },
  {
   "cell_type": "markdown",
   "metadata": {},
   "source": [
    "## Exercises for list comprehensions\n",
    "\n",
    "If these examples are making sense, go ahead and try to do the following exercises using comprehensions. If not, try the exercises without comprehensions. You may figure out how to use comprehensions after you have solved each exercise the longer way.\n",
    "\n",
    "- **Multiples of Ten**\n",
    "    - Make a list of the first ten multiples of ten (10, 20, 30... 90, 100). There are a number of ways to do this, but try to do it using a list comprehension. Print out your list.\n",
    "- **Cubes**\n",
    "    - We saw how to make a list of the first ten squares. Make a list of the first ten cubes (1, 8, 27... 1000) using a list comprehension, and print them out.\n",
    "- **Working Backwards**\n",
    "    - Write out the following code without using a list comprehension:\n",
    "    `plus_thirteen = [number + 13 for number in range(1,11)]`"
   ]
  },
  {
   "cell_type": "code",
   "execution_count": 74,
   "metadata": {},
   "outputs": [],
   "source": [
    "# Your code here"
   ]
  },
  {
   "cell_type": "code",
   "execution_count": 75,
   "metadata": {},
   "outputs": [],
   "source": [
    "# %load \"solutions/21_lists_tuples-2_ex1_3.py\""
   ]
  },
  {
   "cell_type": "markdown",
   "metadata": {},
   "source": [
    "An little extra exercise for you to find out on your own:\n",
    "What does this code do and what is the meaning of `_`?\n",
    "```python\n",
    "import random\n",
    "rndv = [random.randint(0, 10) for _ in range(100)]"
   ]
  }
 ],
 "metadata": {
  "kernelspec": {
   "display_name": "Python [conda env:base] *",
   "language": "python",
   "name": "conda-base-py"
  },
  "language_info": {
   "codemirror_mode": {
    "name": "ipython",
    "version": 3
   },
   "file_extension": ".py",
   "mimetype": "text/x-python",
   "name": "python",
   "nbconvert_exporter": "python",
   "pygments_lexer": "ipython3",
   "version": "3.13.5"
  },
  "nav_menu": {},
  "toc": {
   "base_numbering": 1,
   "nav_menu": {},
   "number_sections": true,
   "sideBar": true,
   "skip_h1_title": false,
   "title_cell": "Table of Contents",
   "title_sidebar": "Contents",
   "toc_cell": true,
   "toc_position": {},
   "toc_section_display": "block",
   "toc_window_display": false
  },
  "varInspector": {
   "cols": {
    "lenName": 16,
    "lenType": 16,
    "lenVar": 40
   },
   "kernels_config": {
    "python": {
     "delete_cmd_postfix": "",
     "delete_cmd_prefix": "del ",
     "library": "var_list.py",
     "varRefreshCmd": "print(var_dic_list())"
    },
    "r": {
     "delete_cmd_postfix": ") ",
     "delete_cmd_prefix": "rm(",
     "library": "var_list.r",
     "varRefreshCmd": "cat(var_dic_list()) "
    }
   },
   "types_to_exclude": [
    "module",
    "function",
    "builtin_function_or_method",
    "instance",
    "_Feature"
   ],
   "window_display": false
  }
 },
 "nbformat": 4,
 "nbformat_minor": 4
}
