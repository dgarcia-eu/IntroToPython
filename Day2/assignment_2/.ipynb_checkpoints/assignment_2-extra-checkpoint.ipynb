{
 "cells": [
  {
   "cell_type": "markdown",
   "metadata": {},
   "source": [
    "### Assignment 2 extra exercises: Advanced lists and conditional statements\n",
    "\n",
    "Winter Semester 2025/26"
   ]
  },
  {
   "cell_type": "markdown",
   "metadata": {},
   "source": [
    "---"
   ]
  },
  {
   "cell_type": "markdown",
   "metadata": {},
   "source": [
    "# 1. Check Sudoku\n",
    "\n",
    "Determine if a 9 x 9 Sudoku board is valid. Only the filled cells need to be validated according to the following rules:\n",
    "- Each row must contain the digits 1-9 without repetition.\n",
    "- Each column must contain the digits 1-9 without repetition.\n",
    "- Each of the nine 3 x 3 sub-boxes of the grid must contain the digits 1-9 without repetition.\n",
    "\n",
    "Note: A Sudoku board (partially filled) could be valid but is not necessarily solvable. Only the filled cells need to be validated according to the mentioned rules.\n",
    "\n",
    "Example:\n",
    "\n",
    "![](https://upload.wikimedia.org/wikipedia/commons/thumb/f/ff/Sudoku-by-L2G-20050714.svg/250px-Sudoku-by-L2G-20050714.svg.png)\n",
    "\n",
    "Input: \n",
    "```python\n",
    "board = \n",
    "[[\"5\",\"3\",\".\",\".\",\"7\",\".\",\".\",\".\",\".\"]\n",
    ",[\"6\",\".\",\".\",\"1\",\"9\",\"5\",\".\",\".\",\".\"]\n",
    ",[\".\",\"9\",\"8\",\".\",\".\",\".\",\".\",\"6\",\".\"]\n",
    ",[\"8\",\".\",\".\",\".\",\"6\",\".\",\".\",\".\",\"3\"]\n",
    ",[\"4\",\".\",\".\",\"8\",\".\",\"3\",\".\",\".\",\"1\"]\n",
    ",[\"7\",\".\",\".\",\".\",\"2\",\".\",\".\",\".\",\"6\"]\n",
    ",[\".\",\"6\",\".\",\".\",\".\",\".\",\"2\",\"8\",\".\"]\n",
    ",[\".\",\".\",\".\",\"4\",\"1\",\"9\",\".\",\".\",\"5\"]\n",
    ",[\".\",\".\",\".\",\".\",\"8\",\".\",\".\",\"7\",\"9\"]]\n",
    "```\n",
    "\n",
    "Output: \n",
    "```python\n",
    "True\n",
    "```\n"
   ]
  },
  {
   "cell_type": "code",
   "execution_count": null,
   "metadata": {},
   "outputs": [],
   "source": [
    "# Your code here"
   ]
  },
  {
   "cell_type": "markdown",
   "metadata": {},
   "source": [
    "# 2. Best time to buy and sell a stock II\n",
    "\n",
    "You are given an array prices where **prices[i]** is the price of a given stock on the ith day.\n",
    "\n",
    "On each day, you may decide to buy and/or sell the stock. You can only hold **at most one** share of the stock at any time. However, you can buy it then immediately sell it on the same day.\n",
    "\n",
    "Find and return the **maximum** profit you can achieve.\n",
    "\n",
    "### Example 1:\n",
    "\n",
    "Input: prices = [7,1,5,3,6,4]\n",
    "\n",
    "Output: 7\n",
    "\n",
    "Explanation: Buy on day 2 (price = 1) and sell on day 3 (price = 5), profit = 5-1 = 4.\n",
    "Then buy on day 4 (price = 3) and sell on day 5 (price = 6), profit = 6-3 = 3.\n",
    "Total profit is 4 + 3 = 7.\n",
    "\n",
    "### Example 2:\n",
    "\n",
    "Input: prices = [7,6,4,3,1]\n",
    "\n",
    "Output: 0\n",
    "\n",
    "Explanation: There is no way to make a positive profit, so we never buy the stock to achieve the maximum profit of 0. \n",
    "\n",
    "### Constraints:\n",
    "\n",
    "- 1 <= prices.length <= $3*10^4$\n",
    "- 0 <= prices[i] <= $10^4$"
   ]
  },
  {
   "cell_type": "code",
   "execution_count": null,
   "metadata": {},
   "outputs": [],
   "source": [
    "# Your code here"
   ]
  },
  {
   "cell_type": "markdown",
   "metadata": {},
   "source": [
    "# 3. Teemo's H-Index\n",
    "\n",
    "Given an array of integers citations where 'citations[i]' is the number of citations a researcher received for their 'i'th paper, return the researcher's h-index.\n",
    "\n",
    "Teemo is applying for an academic job and he wants to show his reseach impact with his h-index. [According to the definition of h-index on Wikipedia:](https://en.wikipedia.org/wiki/H-index) The h-index is defined as the maximum value of h such that the given researcher has published at least h papers that have each been cited at least h times.\n",
    "\n",
    "## Example 1\n",
    "\n",
    "Input: citations = `[3,0,6,1,5]`\n",
    "\n",
    "Output: `3`\n",
    "\n",
    "Explanation: [3,0,6,1,5] means the researcher has 5 papers in total and each of them had received 3, 0, 6, 1, 5 citations respectively.\n",
    "Since the researcher has 3 papers with at least 3 citations each and the remaining two with no more than 3 citations each, their h-index is 3.\n",
    "\n",
    "## Example 2:\n",
    "\n",
    "Input: `citations = [1,3,1]`\n",
    "\n",
    "Output: `1`\n",
    "\n",
    "## Constraints:\n",
    "\n",
    "- `n == citations.length`\n",
    "- `1 <= n <= 5000`\n",
    "- `0 <= citations[i] <= 1000`\n"
   ]
  },
  {
   "cell_type": "code",
   "execution_count": null,
   "metadata": {},
   "outputs": [],
   "source": [
    "# Your code here"
   ]
  },
  {
   "cell_type": "markdown",
   "metadata": {},
   "source": [
    "Curious? you just did the following LeetCode problems:\n",
    "- http://leetcode.com/problems/valid-sudoku/\n",
    "- https://leetcode.com/problems/best-time-to-buy-and-sell-stock-ii\n",
    "- https://leetcode.com/problems/h-index/"
   ]
  }
 ],
 "metadata": {
  "kernelspec": {
   "display_name": "Python [conda env:base] *",
   "language": "python",
   "name": "conda-base-py"
  },
  "language_info": {
   "codemirror_mode": {
    "name": "ipython",
    "version": 3
   },
   "file_extension": ".py",
   "mimetype": "text/x-python",
   "name": "python",
   "nbconvert_exporter": "python",
   "pygments_lexer": "ipython3",
   "version": "3.13.5"
  }
 },
 "nbformat": 4,
 "nbformat_minor": 4
}
