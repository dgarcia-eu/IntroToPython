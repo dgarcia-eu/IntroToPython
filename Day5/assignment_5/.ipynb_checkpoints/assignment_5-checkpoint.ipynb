{
 "cells": [
  {
   "cell_type": "markdown",
   "metadata": {
    "id": "VDM62QDIgOyE"
   },
   "source": [
    "<font size=\"+3\">Assignment 5: Data visualization</font>\n",
    "\n",
    "Winter Semester 2025/26\n",
    "\n",
    "Total Score: 20\n",
    "\n",
    "Submission Deadline: Friday, October 17, 2025, 23:59"
   ]
  },
  {
   "cell_type": "code",
   "execution_count": null,
   "metadata": {
    "id": "LT5rZK_-gOyM"
   },
   "outputs": [],
   "source": [
    "import numpy as np\n",
    "import matplotlib.pyplot as plt\n",
    "%matplotlib inline"
   ]
  },
  {
   "cell_type": "markdown",
   "metadata": {
    "id": "f0U5WmpYgOyO"
   },
   "source": [
    "# Visualizing toy data"
   ]
  },
  {
   "cell_type": "markdown",
   "metadata": {
    "id": "Wu2xvrbngOyO"
   },
   "source": [
    "**Task 1.1: Create a scatter plot for the following data (1 point)**"
   ]
  },
  {
   "cell_type": "code",
   "execution_count": null,
   "metadata": {
    "id": "WiynGMw3gOyP"
   },
   "outputs": [],
   "source": [
    "age = [32,34,19,33,57,15,62,65,32,17]\n",
    "income = [52000,27000,7000,23000,18500,50000,72000,22000,42000,0]\n",
    "\n",
    "# Your code here"
   ]
  },
  {
   "cell_type": "markdown",
   "metadata": {
    "id": "O69eSsV4gOyQ"
   },
   "source": [
    "**Task 1.2: Create a simple line plot with two lines comparing the following daily measurements of temperature (1 point)**"
   ]
  },
  {
   "cell_type": "code",
   "execution_count": null,
   "metadata": {
    "id": "HAgZc8osgOyR"
   },
   "outputs": [],
   "source": [
    "weather_station_1 = [22,17,18,19,25,26,28,17,15,12]\n",
    "weather_station_2 = [24,19,17,18,24,27,29,15,14,10]\n",
    "\n",
    "# Your code here"
   ]
  },
  {
   "cell_type": "markdown",
   "metadata": {
    "id": "Mnyk81qtgOyR"
   },
   "source": [
    "**Task 1.3: Style this plot (2.5 points)**  \n",
    "The line colors should be red and blue. Add a legend and set the visible area for the y-axis from -5 to 35. Name the axes as \"day\" and \"temperature\"."
   ]
  },
  {
   "cell_type": "code",
   "execution_count": null,
   "metadata": {
    "id": "vmk570wZgOyS"
   },
   "outputs": [],
   "source": [
    "# Your code here"
   ]
  },
  {
   "cell_type": "markdown",
   "metadata": {
    "id": "yL6WShOkgOyT"
   },
   "source": [
    "**Task 1.4: Visualize the following election data with a paired bar chart (2.5 points)**"
   ]
  },
  {
   "cell_type": "code",
   "execution_count": null,
   "metadata": {},
   "outputs": [],
   "source": [
    "parties = [\"CDU\",\"SPD\",\"AfD\", \"FDP\", \"DIE LINKE\", \"GRÜNE\", \"CSU\", \"Sonstige\"]\n",
    "result_2017 = [26.8,20.5,12.6,10.7,9.2,8.9,6.2,5.0]\n",
    "result_2013 = [34.1,25.7,4.7,4.8,8.6,8.4,7.4,6.2]\n",
    "\n",
    "# Your code here"
   ]
  },
  {
   "cell_type": "markdown",
   "metadata": {
    "id": "gAt1VfCtgOyU"
   },
   "source": [
    "**Task 1.5: Find out how to make pie charts and subplots with matplotlib and create two separate pie charts for the election data above (3 points)**  \n",
    "You will have to search for help for this one."
   ]
  },
  {
   "cell_type": "code",
   "execution_count": null,
   "metadata": {
    "id": "SIT_-LDKgOyV"
   },
   "outputs": [],
   "source": [
    "# Your code here"
   ]
  },
  {
   "cell_type": "markdown",
   "metadata": {
    "id": "u3hmt0EngOyV"
   },
   "source": [
    "# Quality of Government dataset"
   ]
  },
  {
   "cell_type": "code",
   "execution_count": null,
   "metadata": {
    "id": "ccVBJbUKgOyV"
   },
   "outputs": [],
   "source": [
    "import pandas as pd"
   ]
  },
  {
   "cell_type": "code",
   "execution_count": null,
   "metadata": {
    "id": "SgMaL11xgOyV"
   },
   "outputs": [],
   "source": [
    "#read the data directly online:\n",
    "data = pd.read_csv (\"http://www.qogdata.pol.gu.se/dataarchive/qog_std_cs_jan17.csv\")\n",
    "df = data [[\"cname\", \"wdi_pop\", \"wdi_popgr\", \"wdi_gdpcapcur\", \"wdi_gdpcapgr\", \"wdi_area\", \"wdi_broadb\", \"ht_region\"]]\n",
    "df.columns = [\"name\", \"population\",\"population_growth\", \"gdp_per_capita\", \"gdp_growth\", \"area\", \"internet\", \"region\"]\n",
    "df.region = df.region.replace (range(1,11) , [\"Eastern Europe\", \"Latin America\", \"North Africa & Middle East\", \"Sub-Saharan Africa\", \"Western Europe and North America\", \"East Asia\",\"South-East Asia\", \"South Asia\", \"Pacific\", \"Caribbean\"])"
   ]
  },
  {
   "cell_type": "code",
   "execution_count": null,
   "metadata": {
    "id": "Af1a2CsvgOyW"
   },
   "outputs": [],
   "source": [
    "# lets pre-compute the population density for each country, we will need it a couple of times\n",
    "df [\"population_density\"] = df.population / df.area"
   ]
  },
  {
   "cell_type": "markdown",
   "metadata": {
    "id": "gya7IVaFgOyW"
   },
   "source": [
    "**Task 2.1: Plot a bar chart of the population density in each country. Sort the bars in descending order of the population density (2 points)**"
   ]
  },
  {
   "cell_type": "code",
   "execution_count": null,
   "metadata": {
    "id": "sUx3nLIVgOyX"
   },
   "outputs": [],
   "source": [
    "# Your code here"
   ]
  },
  {
   "cell_type": "markdown",
   "metadata": {
    "id": "u_Em-ISogOyX"
   },
   "source": [
    "**Task 2.2: Plot a bar chart for the population in each country with a logarithmic scale for the y axis. (2 points)**"
   ]
  },
  {
   "cell_type": "code",
   "execution_count": null,
   "metadata": {
    "id": "IwK2K9EvgOyX"
   },
   "outputs": [],
   "source": [
    "# Your code here"
   ]
  },
  {
   "cell_type": "markdown",
   "metadata": {
    "id": "F85p9mX9gOyX"
   },
   "source": [
    "**Task 2.3: Plot a histogram for the attribute 'population_growth' (1 point)**"
   ]
  },
  {
   "cell_type": "code",
   "execution_count": null,
   "metadata": {
    "id": "aBY3C9t5gOyX"
   },
   "outputs": [],
   "source": [
    "# Your code here"
   ]
  },
  {
   "cell_type": "markdown",
   "metadata": {
    "id": "ccrLEJzFgOyY"
   },
   "source": [
    "**Task 2.4: Compute the average (per country) population_growth and gdp_per_capita for each region. Plot these in a scatter plot against each other  (2 points)**  \n",
    "Remember what we learned yesterday with pandas."
   ]
  },
  {
   "cell_type": "code",
   "execution_count": null,
   "metadata": {
    "id": "xjVXcg8LgOyY"
   },
   "outputs": [],
   "source": [
    "# Your code here"
   ]
  },
  {
   "cell_type": "markdown",
   "metadata": {
    "id": "8jHJOhgygOyY"
   },
   "source": [
    "**Task 2.5: Add to the last plot a text on each point with the name of the corresponding region (3 points)**"
   ]
  },
  {
   "cell_type": "code",
   "execution_count": null,
   "metadata": {
    "id": "f0s_TpJBgOyZ"
   },
   "outputs": [],
   "source": [
    "# Your code here"
   ]
  }
 ],
 "metadata": {
  "colab": {
   "provenance": []
  },
  "kernelspec": {
   "display_name": "Python [conda env:base] *",
   "language": "python",
   "name": "conda-base-py"
  },
  "language_info": {
   "codemirror_mode": {
    "name": "ipython",
    "version": 3
   },
   "file_extension": ".py",
   "mimetype": "text/x-python",
   "name": "python",
   "nbconvert_exporter": "python",
   "pygments_lexer": "ipython3",
   "version": "3.13.5"
  },
  "nav_menu": {},
  "toc": {
   "base_numbering": 1,
   "nav_menu": {},
   "number_sections": true,
   "sideBar": true,
   "skip_h1_title": false,
   "title_cell": "Table of Contents",
   "title_sidebar": "Contents",
   "toc_cell": false,
   "toc_position": {},
   "toc_section_display": "block",
   "toc_window_display": false
  },
  "varInspector": {
   "cols": {
    "lenName": 16,
    "lenType": 16,
    "lenVar": 40
   },
   "kernels_config": {
    "python": {
     "delete_cmd_postfix": "",
     "delete_cmd_prefix": "del ",
     "library": "var_list.py",
     "varRefreshCmd": "print(var_dic_list())"
    },
    "r": {
     "delete_cmd_postfix": ") ",
     "delete_cmd_prefix": "rm(",
     "library": "var_list.r",
     "varRefreshCmd": "cat(var_dic_list()) "
    }
   },
   "types_to_exclude": [
    "module",
    "function",
    "builtin_function_or_method",
    "instance",
    "_Feature"
   ],
   "window_display": false
  }
 },
 "nbformat": 4,
 "nbformat_minor": 4
}
