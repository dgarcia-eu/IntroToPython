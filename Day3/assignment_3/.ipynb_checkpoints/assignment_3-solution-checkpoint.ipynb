{
 "cells": [
  {
   "cell_type": "markdown",
   "metadata": {},
   "source": [
    "# Assignment 3: Dictionaries and Functions\n",
    "\n",
    "Winter Semester 2025/26\n",
    "\n",
    "Total Score: 20\n",
    "\n",
    "Submission Deadline: Wednesday, October 15, 2025, 23:59"
   ]
  },
  {
   "cell_type": "markdown",
   "metadata": {},
   "source": [
    "## Task 1. (14 Points)\n",
    "\n",
    "The code below reads a text file containing an excerpt from the novel The Old Man and the Sea. The text is stored in a variable named text."
   ]
  },
  {
   "cell_type": "code",
   "execution_count": 4,
   "metadata": {},
   "outputs": [],
   "source": [
    "with open('theoldmanandthesea.txt', 'r') as f:\n",
    "    text = f.read()"
   ]
  },
  {
   "cell_type": "markdown",
   "metadata": {},
   "source": [
    "1. Write a function that receives a text (as a single string) and returns a list containing all the words that appear in the text. You do not need to consider punctuation, just split by whitespace. The returned words should be in lowercase. (2 Points)\n"
   ]
  },
  {
   "cell_type": "code",
   "execution_count": 16,
   "metadata": {},
   "outputs": [
    {
     "data": {
      "text/plain": [
       "['he',\n",
       " 'was',\n",
       " 'an',\n",
       " 'old',\n",
       " 'man',\n",
       " 'who',\n",
       " 'fished',\n",
       " 'alone',\n",
       " 'in',\n",
       " 'a',\n",
       " 'skiff',\n",
       " 'in',\n",
       " 'the',\n",
       " 'gulf',\n",
       " 'stream',\n",
       " 'and',\n",
       " 'he',\n",
       " 'had',\n",
       " 'gone',\n",
       " 'eighty-four',\n",
       " 'days',\n",
       " 'now',\n",
       " 'without',\n",
       " 'taking',\n",
       " 'a',\n",
       " 'fish.',\n",
       " 'in',\n",
       " 'the',\n",
       " 'first',\n",
       " 'forty',\n",
       " 'days',\n",
       " 'a',\n",
       " 'boy',\n",
       " 'had',\n",
       " 'been',\n",
       " 'with',\n",
       " 'him.',\n",
       " 'but',\n",
       " 'after',\n",
       " 'forty',\n",
       " 'days',\n",
       " 'without',\n",
       " 'a',\n",
       " 'fish',\n",
       " 'the',\n",
       " \"boy's\",\n",
       " 'parents',\n",
       " 'had',\n",
       " 'told',\n",
       " 'him',\n",
       " 'that',\n",
       " 'the',\n",
       " 'old',\n",
       " 'man',\n",
       " 'was',\n",
       " 'now',\n",
       " 'definitely',\n",
       " 'and',\n",
       " 'finally',\n",
       " 'salao,',\n",
       " 'which',\n",
       " 'is',\n",
       " 'the',\n",
       " 'worst',\n",
       " 'form',\n",
       " 'of',\n",
       " 'unlucky,',\n",
       " 'and',\n",
       " 'the',\n",
       " 'boy',\n",
       " 'had',\n",
       " 'gone',\n",
       " 'at',\n",
       " 'their',\n",
       " 'orders',\n",
       " 'in',\n",
       " 'another',\n",
       " 'boat',\n",
       " 'which',\n",
       " 'caught',\n",
       " 'three',\n",
       " 'good',\n",
       " 'fish',\n",
       " 'the',\n",
       " 'first',\n",
       " 'week.',\n",
       " 'it',\n",
       " 'made',\n",
       " 'the',\n",
       " 'boy',\n",
       " 'sad',\n",
       " 'to',\n",
       " 'see',\n",
       " 'the',\n",
       " 'old',\n",
       " 'man',\n",
       " 'come',\n",
       " 'in',\n",
       " 'each',\n",
       " 'day',\n",
       " 'with',\n",
       " 'his',\n",
       " 'skiff',\n",
       " 'empty',\n",
       " 'and',\n",
       " 'he',\n",
       " 'always',\n",
       " 'went',\n",
       " 'down',\n",
       " 'to',\n",
       " 'help',\n",
       " 'him',\n",
       " 'carry',\n",
       " 'either',\n",
       " 'the',\n",
       " 'coiled',\n",
       " 'lines',\n",
       " 'or',\n",
       " 'the',\n",
       " 'gaff',\n",
       " 'and',\n",
       " 'harpoon',\n",
       " 'and',\n",
       " 'the',\n",
       " 'sail',\n",
       " 'that',\n",
       " 'was',\n",
       " 'furled',\n",
       " 'around',\n",
       " 'the',\n",
       " 'mast.',\n",
       " 'the',\n",
       " 'sail',\n",
       " 'was',\n",
       " 'patched',\n",
       " 'with',\n",
       " 'flour',\n",
       " 'sacks',\n",
       " 'and,',\n",
       " 'furled,',\n",
       " 'it',\n",
       " 'looked',\n",
       " 'like',\n",
       " 'the',\n",
       " 'flag',\n",
       " 'of',\n",
       " 'permanent',\n",
       " 'defeat.the',\n",
       " 'old',\n",
       " 'man',\n",
       " 'was',\n",
       " 'thin',\n",
       " 'and',\n",
       " 'gaunt',\n",
       " 'with',\n",
       " 'deep',\n",
       " 'wrinkles',\n",
       " 'in',\n",
       " 'the',\n",
       " 'back',\n",
       " 'of',\n",
       " 'his',\n",
       " 'neck.',\n",
       " 'the',\n",
       " 'brown',\n",
       " 'blotches',\n",
       " 'of',\n",
       " 'the',\n",
       " 'benevolent',\n",
       " 'skin',\n",
       " 'cancer',\n",
       " 'the',\n",
       " 'sun',\n",
       " 'brings',\n",
       " 'from',\n",
       " 'its',\n",
       " 'reflection',\n",
       " 'on',\n",
       " 'the',\n",
       " 'tropic',\n",
       " 'sea',\n",
       " 'were',\n",
       " 'on',\n",
       " 'his',\n",
       " 'cheeks.',\n",
       " 'the',\n",
       " 'blotches',\n",
       " 'ran',\n",
       " 'well',\n",
       " 'down',\n",
       " 'the',\n",
       " 'sides',\n",
       " 'of',\n",
       " 'his',\n",
       " 'face',\n",
       " 'and',\n",
       " 'his',\n",
       " 'hands',\n",
       " 'had',\n",
       " 'the',\n",
       " 'deep-creased',\n",
       " 'scars',\n",
       " 'from',\n",
       " 'handling',\n",
       " 'heavy',\n",
       " 'fish',\n",
       " 'on',\n",
       " 'the',\n",
       " 'cords.',\n",
       " 'but',\n",
       " 'none',\n",
       " 'of',\n",
       " 'these',\n",
       " 'scars',\n",
       " 'were',\n",
       " 'fresh.',\n",
       " 'they',\n",
       " 'were',\n",
       " 'as',\n",
       " 'old',\n",
       " 'as',\n",
       " 'erosions',\n",
       " 'in',\n",
       " 'a',\n",
       " 'fishless',\n",
       " 'desert.']"
      ]
     },
     "execution_count": 16,
     "metadata": {},
     "output_type": "execute_result"
    },
    {
     "name": "stdout",
     "output_type": "stream",
     "text": [
      "The history saving thread hit an unexpected error (OperationalError('attempt to write a readonly database')).History will not be written to the database.\n"
     ]
    }
   ],
   "source": [
    "def list_words(text):\n",
    "    return text.lower().split(\" \")\n",
    "\n",
    "list_words(text)"
   ]
  },
  {
   "cell_type": "markdown",
   "metadata": {},
   "source": [
    "2. Write a function that receives a list of words and returns a dictionary where each key is a word and the corresponding value is its count.  (5 points)"
   ]
  },
  {
   "cell_type": "code",
   "execution_count": 24,
   "metadata": {},
   "outputs": [],
   "source": [
    "def word_dict(wordlist):\n",
    "    countsdic = dict()\n",
    "    for word in wordlist:\n",
    "        if countsdic.get(word, -1) == -1:\n",
    "            countsdic[word] = 1\n",
    "        else:\n",
    "            countsdic[word] += 1\n",
    "    return countsdic\n",
    "\n",
    "# alternative with dictionary comprehension\n",
    "def word_dict(wordlist):\n",
    "    return {x: wordlist.count(x) for x in wordlist if wordlist.count(x)>1}"
   ]
  },
  {
   "cell_type": "markdown",
   "metadata": {},
   "source": [
    "3. Using the functions from Tasks 1 and 2, create a dictionary where the keys are the words that appear in the text (The Old Man and the Sea) and the values are the word counts. (1 point)\n"
   ]
  },
  {
   "cell_type": "code",
   "execution_count": 25,
   "metadata": {},
   "outputs": [
    {
     "data": {
      "text/plain": [
       "{'he': 3,\n",
       " 'was': 5,\n",
       " 'old': 5,\n",
       " 'man': 4,\n",
       " 'in': 7,\n",
       " 'a': 5,\n",
       " 'skiff': 2,\n",
       " 'the': 24,\n",
       " 'and': 8,\n",
       " 'had': 5,\n",
       " 'gone': 2,\n",
       " 'days': 3,\n",
       " 'now': 2,\n",
       " 'without': 2,\n",
       " 'first': 2,\n",
       " 'forty': 2,\n",
       " 'boy': 3,\n",
       " 'with': 4,\n",
       " 'but': 2,\n",
       " 'fish': 3,\n",
       " 'him': 2,\n",
       " 'that': 2,\n",
       " 'which': 2,\n",
       " 'of': 6,\n",
       " 'it': 2,\n",
       " 'to': 2,\n",
       " 'his': 5,\n",
       " 'down': 2,\n",
       " 'sail': 2,\n",
       " 'blotches': 2,\n",
       " 'from': 2,\n",
       " 'on': 3,\n",
       " 'were': 3,\n",
       " 'scars': 2,\n",
       " 'as': 2}"
      ]
     },
     "execution_count": 25,
     "metadata": {},
     "output_type": "execute_result"
    }
   ],
   "source": [
    "words = list_words(text)\n",
    "counts = word_dict(words)\n",
    "counts"
   ]
  },
  {
   "cell_type": "markdown",
   "metadata": {},
   "source": [
    "4. Using the dictionary you created for the previous task, print how many times each of the following words appears in the text. Use a for loop.  (2 points  \n",
    "Words:\n",
    "```python\n",
    "    ['the','old','man','in','the','sea']"
   ]
  },
  {
   "cell_type": "code",
   "execution_count": 29,
   "metadata": {},
   "outputs": [
    {
     "name": "stdout",
     "output_type": "stream",
     "text": [
      "the 24\n",
      "old 5\n",
      "man 4\n",
      "in 7\n",
      "the 24\n",
      "sea 0\n"
     ]
    }
   ],
   "source": [
    "words_to_check = ['the','old','man','in','the','sea']\n",
    "for w in words_to_check:\n",
    "    print(w, counts.get(w,0))"
   ]
  },
  {
   "cell_type": "markdown",
   "metadata": {},
   "source": [
    "5. Create a sorted list of word-count pairs, ordered from the highest count to the lowest from the dictionary created in the task 3. Do this using a lambda function. (3 Points)\n",
    "6. Print the top 10 most frequent words along with their counts. (1 Point)"
   ]
  },
  {
   "cell_type": "code",
   "execution_count": 40,
   "metadata": {},
   "outputs": [
    {
     "name": "stdout",
     "output_type": "stream",
     "text": [
      "[('the', 24), ('and', 8), ('in', 7), ('of', 6), ('was', 5), ('old', 5), ('a', 5), ('had', 5), ('his', 5), ('man', 4), ('with', 4), ('he', 3), ('days', 3), ('boy', 3), ('fish', 3), ('on', 3), ('were', 3), ('skiff', 2), ('gone', 2), ('now', 2), ('without', 2), ('first', 2), ('forty', 2), ('but', 2), ('him', 2), ('that', 2), ('which', 2), ('it', 2), ('to', 2), ('down', 2), ('sail', 2), ('blotches', 2), ('from', 2), ('scars', 2), ('as', 2)]\n",
      "('the', 24)\n",
      "('and', 8)\n",
      "('in', 7)\n",
      "('of', 6)\n",
      "('was', 5)\n",
      "('old', 5)\n",
      "('a', 5)\n",
      "('had', 5)\n",
      "('his', 5)\n",
      "('man', 4)\n"
     ]
    }
   ],
   "source": [
    "countpairs = [(x,y) for (x,y) in counts.items()]\n",
    "countpairs.sort(key=lambda x: x[1], reverse = True)\n",
    "print(countpairs)\n",
    "\n",
    "for i in range(10):\n",
    "    print(countpairs[i])\n",
    "\n",
    "# print(countpairs[0:9]) # Also fine\n"
   ]
  },
  {
   "cell_type": "markdown",
   "metadata": {},
   "source": [
    "## Task 2. (6 Points)\n",
    "We have data on five Twitter users stored in a list. Each user's list contains the following information: name, number of followers, and a list of retweets with the information of followers that retweeted the user. Your task is to create a dictionary named **overall_users** in the specified format (without manually typing all the data):\n",
    "\n",
    "```python\n",
    "{'gabby': {'name': 'gabby',\n",
    "  'follower_num': 13,\n",
    "  'retweet_users': ['b', 'c', 'e', 'h', 'r', 'b', 'b', 'c', 'h']},\n",
    " 'kitty': {'name': 'kitty',\n",
    "  'follower_num': 10,\n",
    "  'retweet_users': ['a', 'c', 'a', 'h', 'z']},\n",
    " 'pandy': {'name': 'pandy',\n",
    "  'follower_num': 5,\n",
    "  'retweet_users': ['a', 'd', 'd']},\n",
    " 'babybox': {'name': 'babybox',\n",
    "  'follower_num': 7,\n",
    "  'retweet_users': ['a', 'b', 'e', 'a']},\n",
    " 'cakey': {'name': 'cakey',\n",
    "  'follower_num': 6,\n",
    "  'retweet_users': ['d', 'c', 'b', 'b']}}\n",
    "```"
   ]
  },
  {
   "cell_type": "code",
   "execution_count": 56,
   "metadata": {},
   "outputs": [],
   "source": [
    "user_a = ['gabby', 13 ,['b','c','e','h','r','b']] # User A is retweeted by ''user B, C, E, H...\n",
    "user_b = ['kitty', 10, ['a','c','a','h','z']] # User B is retweeted by user A, C, A,...\n",
    "user_c = ['pandy', 5, ['a','d','d']]\n",
    "user_d = ['babybox',7,['a','b','e','a']]\n",
    "user_e = ['cakey',6,['d','c','b','b']]"
   ]
  },
  {
   "cell_type": "markdown",
   "metadata": {},
   "source": [
    "1. Write a function that receives the list corresponding to one user as an argument and returns a dictionary in the following format. (3 Points)\n",
    "```python\n",
    "    {'name': 'gabby',\n",
    "    'follower_num': 13,\n",
    "    'retweet_users': ['b', 'c', 'e', 'h', 'r', 'b', 'b', 'c', 'h']}"
   ]
  },
  {
   "cell_type": "code",
   "execution_count": 57,
   "metadata": {},
   "outputs": [
    {
     "data": {
      "text/plain": [
       "{'name': 'gabby',\n",
       " 'follower_num': 13,\n",
       " 'retweet_users': ['b', 'c', 'e', 'h', 'r', 'b']}"
      ]
     },
     "execution_count": 57,
     "metadata": {},
     "output_type": "execute_result"
    }
   ],
   "source": [
    "def to_json(userlist):\n",
    "    userjson = dict()\n",
    "    userjson[\"name\"] = userlist[0]\n",
    "    userjson[\"follower_num\"] = userlist[1]\n",
    "    userjson[\"retweet_users\"] = userlist[2]\n",
    "    return(userjson)\n",
    "\n",
    "to_json(user_a)"
   ]
  },
  {
   "cell_type": "markdown",
   "metadata": {},
   "source": [
    "2. Using the function from the above task, create a **overall_users** dictionary that contains all the user information. (1 Point)"
   ]
  },
  {
   "cell_type": "code",
   "execution_count": 58,
   "metadata": {},
   "outputs": [
    {
     "name": "stdout",
     "output_type": "stream",
     "text": [
      "{'gabby': {'name': 'gabby', 'follower_num': 13, 'retweet_users': ['b', 'c', 'e', 'h', 'r', 'b']}, 'kitty': {'name': 'kitty', 'follower_num': 10, 'retweet_users': ['a', 'c', 'a', 'h', 'z']}, 'pandy': {'name': 'pandy', 'follower_num': 5, 'retweet_users': ['a', 'd', 'd']}, 'babybox': {'name': 'babybox', 'follower_num': 7, 'retweet_users': ['a', 'b', 'e', 'a']}, 'cakey': {'name': 'cakey', 'follower_num': 6, 'retweet_users': ['d', 'c', 'b', 'b']}}\n"
     ]
    }
   ],
   "source": [
    "overall_users = dict()\n",
    "overall_users[user_a[0]] = to_json(user_a)\n",
    "overall_users[user_b[0]] = to_json(user_b)\n",
    "overall_users[user_c[0]] = to_json(user_c)\n",
    "overall_users[user_d[0]] = to_json(user_d)\n",
    "overall_users[user_e[0]] = to_json(user_e)\n",
    "print(overall_users)"
   ]
  },
  {
   "cell_type": "markdown",
   "metadata": {},
   "source": [
    "3. We have additional data on retweets. There are new users who retweeted user_a's posts. Update the **overall_users** dictionary to include this information. (2 Point)\n",
    "   \n",
    "   Additional users who retweeted user_a's posts: \n",
    "   ```python\n",
    "   ['s','g']"
   ]
  },
  {
   "cell_type": "code",
   "execution_count": 59,
   "metadata": {},
   "outputs": [
    {
     "name": "stdout",
     "output_type": "stream",
     "text": [
      "{'gabby': {'name': 'gabby', 'follower_num': 13, 'retweet_users': ['b', 'c', 'e', 'h', 'r', 'b', 's', 'g']}, 'kitty': {'name': 'kitty', 'follower_num': 10, 'retweet_users': ['a', 'c', 'a', 'h', 'z']}, 'pandy': {'name': 'pandy', 'follower_num': 5, 'retweet_users': ['a', 'd', 'd']}, 'babybox': {'name': 'babybox', 'follower_num': 7, 'retweet_users': ['a', 'b', 'e', 'a']}, 'cakey': {'name': 'cakey', 'follower_num': 6, 'retweet_users': ['d', 'c', 'b', 'b']}}\n"
     ]
    }
   ],
   "source": [
    "overall_users[user_a[0]][\"retweet_users\"].extend([\"s\",\"g\"])  # two appends also valid\n",
    "print(overall_users)"
   ]
  }
 ],
 "metadata": {
  "kernelspec": {
   "display_name": "Python [conda env:base] *",
   "language": "python",
   "name": "conda-base-py"
  },
  "language_info": {
   "codemirror_mode": {
    "name": "ipython",
    "version": 3
   },
   "file_extension": ".py",
   "mimetype": "text/x-python",
   "name": "python",
   "nbconvert_exporter": "python",
   "pygments_lexer": "ipython3",
   "version": "3.13.5"
  }
 },
 "nbformat": 4,
 "nbformat_minor": 4
}
