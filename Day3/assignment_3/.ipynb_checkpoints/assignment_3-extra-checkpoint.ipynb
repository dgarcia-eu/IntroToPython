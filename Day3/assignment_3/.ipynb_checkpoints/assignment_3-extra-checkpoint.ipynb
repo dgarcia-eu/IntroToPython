{
 "cells": [
  {
   "cell_type": "markdown",
   "metadata": {},
   "source": [
    "### Assignment 3 extra exercises: Accessing the World Development Indicators API"
   ]
  },
  {
   "cell_type": "markdown",
   "metadata": {},
   "source": [
    "---"
   ]
  },
  {
   "cell_type": "markdown",
   "metadata": {},
   "source": [
    "# 1. A first request to the WDI API\n",
    "\n",
    "Check the documentation of the World Development Indicators API: https://datahelpdesk.worldbank.org/knowledgebase/articles/898581\n",
    "Using the **requests** library, make one request with the result as JSON.\n",
    "Using the function *json_normalize()* of **pandas**, convert the JSON to a dictionary in Python. Explore the dictionary to understand its structure."
   ]
  },
  {
   "cell_type": "code",
   "execution_count": null,
   "metadata": {},
   "outputs": [],
   "source": [
    "# Your code here"
   ]
  },
  {
   "cell_type": "markdown",
   "metadata": {},
   "source": [
    "# 2. Retrieve data for all countries and two years\n",
    "Now request child mortality and average life expectancy for all countries in the years 1962 and 2022. You will have to read the documentation of the World Development Indicators to find those two indicators, for example here: https://databank.worldbank.org/\n",
    "Clean the dataset so you only have countries and not aggregates or other units."
   ]
  },
  {
   "cell_type": "code",
   "execution_count": null,
   "metadata": {},
   "outputs": [],
   "source": [
    "# Your code here"
   ]
  },
  {
   "cell_type": "markdown",
   "metadata": {},
   "source": [
    "# 3. Explore associations\n",
    "Make a scatter plot of child mortality versus life expectancy across countries in 1962 and a second plot for 2022. What differences can you see in the plots? What steps are we missing in the data processing?"
   ]
  },
  {
   "cell_type": "code",
   "execution_count": null,
   "metadata": {},
   "outputs": [],
   "source": [
    "# Your code here"
   ]
  },
  {
   "cell_type": "markdown",
   "metadata": {},
   "source": [
    "You just did an updated version of the first analysis of Hans Rosling's famous TED talk: https://www.ted.com/playlists/474/the_best_hans_rosling_talks_yo"
   ]
  }
 ],
 "metadata": {
  "kernelspec": {
   "display_name": "Python [conda env:base] *",
   "language": "python",
   "name": "conda-base-py"
  },
  "language_info": {
   "codemirror_mode": {
    "name": "ipython",
    "version": 3
   },
   "file_extension": ".py",
   "mimetype": "text/x-python",
   "name": "python",
   "nbconvert_exporter": "python",
   "pygments_lexer": "ipython3",
   "version": "3.13.5"
  }
 },
 "nbformat": 4,
 "nbformat_minor": 4
}
