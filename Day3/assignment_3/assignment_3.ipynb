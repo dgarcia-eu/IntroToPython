{
 "cells": [
  {
   "cell_type": "markdown",
   "metadata": {},
   "source": [
    "# Assignment 3: Dictionaries and Functions\n",
    "\n",
    "Winter Semester 2025/26\n",
    "\n",
    "Total Score: 20\n",
    "\n",
    "Submission Deadline: Wednesday, October 15, 2025, 23:59"
   ]
  },
  {
   "cell_type": "markdown",
   "metadata": {},
   "source": [
    "## Task 1. (14 Points)\n",
    "\n",
    "The code below reads a text file containing an excerpt from the novel The Old Man and the Sea. The text is stored in a variable named text."
   ]
  },
  {
   "cell_type": "code",
   "execution_count": 2,
   "metadata": {},
   "outputs": [],
   "source": [
    "with open('theoldmanandthesea.txt', 'r') as f:\n",
    "    text = f.read()"
   ]
  },
  {
   "cell_type": "markdown",
   "metadata": {},
   "source": [
    "1. Write a function that receives a text (as a single string) and returns a list containing all the words that appear in the text. You do not need to consider punctuation, just split by whitespace. The returned words should be in lowercase. (2 Points)\n"
   ]
  },
  {
   "cell_type": "code",
   "execution_count": 3,
   "metadata": {},
   "outputs": [],
   "source": [
    "# Your code here"
   ]
  },
  {
   "cell_type": "markdown",
   "metadata": {},
   "source": [
    "2. Write a function that receives a list of words and returns a dictionary where each key is a word and the corresponding value is its count.  (5 points)"
   ]
  },
  {
   "cell_type": "code",
   "execution_count": 4,
   "metadata": {},
   "outputs": [],
   "source": [
    "# Your code here"
   ]
  },
  {
   "cell_type": "markdown",
   "metadata": {},
   "source": [
    "3. Using the functions from Tasks 1 and 2, create a dictionary where the keys are the words that appear in the text (The Old Man and the Sea) and the values are the word counts. (1 point)\n"
   ]
  },
  {
   "cell_type": "code",
   "execution_count": 5,
   "metadata": {},
   "outputs": [],
   "source": [
    "# Your code here"
   ]
  },
  {
   "cell_type": "markdown",
   "metadata": {},
   "source": [
    "4. Using the dictionary you created for the previous task, print how many times each of the following words appears in the text. Use a for loop.  (2 points  \n",
    "Words:\n",
    "```python\n",
    "    ['the','old','man','in','the','sea']"
   ]
  },
  {
   "cell_type": "code",
   "execution_count": 6,
   "metadata": {},
   "outputs": [],
   "source": [
    "# Your code here"
   ]
  },
  {
   "cell_type": "markdown",
   "metadata": {},
   "source": [
    "5. Create a sorted list of word-count pairs, ordered from the highest count to the lowest from the dictionary created in the task 3. Do this using a lambda function. (3 Points)\n",
    "6. Print the top 10 most frequent words along with their counts. (1 Point)"
   ]
  },
  {
   "cell_type": "code",
   "execution_count": 7,
   "metadata": {},
   "outputs": [],
   "source": [
    "# Your code here"
   ]
  },
  {
   "cell_type": "markdown",
   "metadata": {},
   "source": [
    "## Task 2. (6 Points)\n",
    "We have data on five Twitter users stored in a list. Each user's list contains the following information: name, number of followers, and a list of retweets with the information of followers that retweeted the user. Your task is to create a dictionary named **overall_users** in the specified format (without manually typing all the data):\n",
    "\n",
    "```python\n",
    "{'gabby': {'name': 'gabby',\n",
    "  'follower_num': 13,\n",
    "  'retweet_users': ['b', 'c', 'e', 'h', 'r', 'b', 'b', 'c', 'h']},\n",
    " 'kitty': {'name': 'kitty',\n",
    "  'follower_num': 10,\n",
    "  'retweet_users': ['a', 'c', 'a', 'h', 'z']},\n",
    " 'pandy': {'name': 'pandy',\n",
    "  'follower_num': 5,\n",
    "  'retweet_users': ['a', 'd', 'd']},\n",
    " 'babybox': {'name': 'babybox',\n",
    "  'follower_num': 7,\n",
    "  'retweet_users': ['a', 'b', 'e', 'a']},\n",
    " 'cakey': {'name': 'cakey',\n",
    "  'follower_num': 6,\n",
    "  'retweet_users': ['d', 'c', 'b', 'b']}}\n",
    "```"
   ]
  },
  {
   "cell_type": "code",
   "execution_count": 8,
   "metadata": {},
   "outputs": [],
   "source": [
    "user_a = ['gabby', 13 ,['b','c','e','h','r','b']] # User A is retweeted by ''user B, C, E, H...\n",
    "user_b = ['kitty', 10, ['a','c','a','h','z']] # User B is retweeted by user A, C, A,...\n",
    "user_c = ['pandy', 5, ['a','d','d']]\n",
    "user_d = ['babybox',7,['a','b','e','a']]\n",
    "user_e = ['cakey',6,['d','c','b','b']]"
   ]
  },
  {
   "cell_type": "markdown",
   "metadata": {},
   "source": [
    "1. Write a function that receives the list corresponding to one user as an argument and returns a dictionary in the following format. (3 Points)\n",
    "```python\n",
    "    {'name': 'gabby',\n",
    "    'follower_num': 13,\n",
    "    'retweet_users': ['b', 'c', 'e', 'h', 'r', 'b', 'b', 'c', 'h']}"
   ]
  },
  {
   "cell_type": "code",
   "execution_count": 9,
   "metadata": {},
   "outputs": [],
   "source": [
    "# Your code here"
   ]
  },
  {
   "cell_type": "markdown",
   "metadata": {},
   "source": [
    "2. Using the function from the above task, create a **overall_users** dictionary that contains all the user information. (1 Point)"
   ]
  },
  {
   "cell_type": "code",
   "execution_count": 10,
   "metadata": {},
   "outputs": [],
   "source": [
    "# Your code here"
   ]
  },
  {
   "cell_type": "markdown",
   "metadata": {},
   "source": [
    "3. We have additional data on retweets. There are new users who retweeted user_a's posts. Update the **overall_users** dictionary to include this information. (2 Point)\n",
    "   \n",
    "   Additional users who retweeted user_a's posts: \n",
    "   ```python\n",
    "   ['s','g']"
   ]
  },
  {
   "cell_type": "code",
   "execution_count": 11,
   "metadata": {},
   "outputs": [],
   "source": [
    "# Your code here"
   ]
  }
 ],
 "metadata": {
  "kernelspec": {
   "display_name": "Python [conda env:base] *",
   "language": "python",
   "name": "conda-base-py"
  },
  "language_info": {
   "codemirror_mode": {
    "name": "ipython",
    "version": 3
   },
   "file_extension": ".py",
   "mimetype": "text/x-python",
   "name": "python",
   "nbconvert_exporter": "python",
   "pygments_lexer": "ipython3",
   "version": "3.13.5"
  }
 },
 "nbformat": 4,
 "nbformat_minor": 4
}
